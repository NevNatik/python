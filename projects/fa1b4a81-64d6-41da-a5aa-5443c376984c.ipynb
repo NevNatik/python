{
 "cells": [
  {
   "cell_type": "code",
   "execution_count": null,
   "metadata": {
    "tags": [
     "7a19f70a-81c4-4d48-a297-18f91c278629"
    ]
   },
   "outputs": [
    {
     "name": "stdout",
     "output_type": "stream",
     "text": [
      "27.436250978085834\n",
      "29.173411853890073\n",
      "29.0925280655811\n",
      "28.30757058150895\n",
      "28.212997458841045\n",
      "27.7521119391816\n",
      "27.660401601758082\n",
      "27.308851652802247\n",
      "27.279006967175707\n",
      "26.872601192002307\n",
      "26.8603397993518\n",
      "26.415815337030757\n",
      "26.47717918578531\n",
      "25.93752637737811\n",
      "26.159906823464063\n",
      "25.414775122046102\n",
      "25.89652957373701\n"
     ]
    }
   ],
   "source": [
    "# Не удаляйте эту ячейку!\n",
    "import pandas as pd\n",
    "from sklearn.model_selection import train_test_split\n",
    "from sklearn.linear_model import LinearRegression\n",
    "from sklearn.ensemble import RandomForestRegressor\n",
    "from sklearn.metrics import mean_absolute_error\n",
    "\n",
    "data = pd.read_csv('/datasets/flights_preprocessed.csv')\n",
    "\n",
    "target = data['Arrival Delay']\n",
    "features = data.drop(['Arrival Delay'] , axis=1)\n",
    "features_train, features_valid, target_train, target_valid = train_test_split(\n",
    "    features, target, test_size=0.25, random_state=12345)\n",
    "\n",
    "model = LinearRegression()\n",
    "model.fit(features_train, target_train)\n",
    "predicted_valid = model.predict(features_valid)\n",
    "print(mean_absolute_error(target_valid, predicted_valid))\n",
    "\n",
    "for depth in range(1, 16, 1):\n",
    "    model = RandomForestRegressor(n_estimators=100, max_depth=depth, random_state=12345)\n",
    "    model.fit(features_train, target_train)\n",
    "    predictions_train = model.predict(features_train)\n",
    "    predictions_valid = model.predict(features_valid)\n",
    "    print(mean_absolute_error(target_train, predictions_train))\n",
    "    print(mean_absolute_error(target_valid, predictions_valid))\n",
    "    "
   ]
  },
  {
   "cell_type": "code",
   "execution_count": null,
   "metadata": {},
   "outputs": [],
   "source": []
  }
 ],
 "metadata": {
  "kernelspec": {
   "display_name": "Python 3",
   "language": "python",
   "name": "python3"
  },
  "language_info": {
   "codemirror_mode": {
    "name": "ipython",
    "version": 3
   },
   "file_extension": ".py",
   "mimetype": "text/x-python",
   "name": "python",
   "nbconvert_exporter": "python",
   "pygments_lexer": "ipython3",
   "version": "3.7.8"
  },
  "toc": {
   "base_numbering": 1,
   "nav_menu": {},
   "number_sections": true,
   "sideBar": true,
   "skip_h1_title": true,
   "title_cell": "Table of Contents",
   "title_sidebar": "Contents",
   "toc_cell": false,
   "toc_position": {},
   "toc_section_display": true,
   "toc_window_display": false
  }
 },
 "nbformat": 4,
 "nbformat_minor": 2
}
