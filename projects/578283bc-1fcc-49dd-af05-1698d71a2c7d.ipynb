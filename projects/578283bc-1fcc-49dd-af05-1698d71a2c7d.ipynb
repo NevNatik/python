{
 "cells": [
  {
   "cell_type": "markdown",
   "metadata": {},
   "source": [
    "<div style=\"border:solid green 2px; padding: 20px\">\n",
    "    \n",
    "Наталья, привет! Меня зовут Бунакова Влада. Если не возражаешь, предлагаю общаться на «ты» :)\n",
    "\n",
    "Ниже в файле ты найдешь мои комментарии: <font color='green'>зеленый цвет — «все отлично»; </font> <font color='orange'>желтый — «хорошо, но можно лучше (один-два таких замечаний допустимы, но если их больше — придется исправлять)»; </font> <font color='red'>красный — «нужно исправить».</font> Комментарии в самом коде я отделяю знаками «###». Пожалуйста, не удаляй мои комментарии, они мне нужны при повторной проверке. Будет здорово, если в своих новых комментариях (выделяй их другим цветом) ты напишешь о сделанных тобой изменениях в коде. \n"
   ]
  },
  {
   "cell_type": "markdown",
   "metadata": {},
   "source": [
    "<div style=\"border:solid green 2px; padding: 20px\">\n",
    "Наталья, спасибо за доработки! Осталось одно замечание."
   ]
  },
  {
   "cell_type": "markdown",
   "metadata": {},
   "source": [
    "<div style=\"border:solid green 2px; padding: 20px\">\n",
    "Наталья, все ок, проект принимаю :)"
   ]
  },
  {
   "cell_type": "markdown",
   "metadata": {},
   "source": [
    "# Определение стоимости автомобилей"
   ]
  },
  {
   "cell_type": "markdown",
   "metadata": {},
   "source": [
    "Сервис по продаже автомобилей с пробегом «Не бит, не крашен» разрабатывает приложение для привлечения новых клиентов. В нём можно быстро узнать рыночную стоимость своего автомобиля. В вашем распоряжении исторические данные: технические характеристики, комплектации и цены автомобилей. Вам нужно построить модель для определения стоимости. \n",
    "\n",
    "Заказчику важны:\n",
    "\n",
    "- качество предсказания;\n",
    "- скорость предсказания;\n",
    "- время обучения."
   ]
  },
  {
   "cell_type": "markdown",
   "metadata": {},
   "source": [
    "## Подготовка данных"
   ]
  },
  {
   "cell_type": "code",
   "execution_count": 1,
   "metadata": {},
   "outputs": [],
   "source": [
    "import pandas as pd\n",
    "import numpy as np\n",
    "import matplotlib.pyplot as plt\n",
    "import time  #подсчет времени обработки\n",
    "import timeit\n",
    "\n",
    "from sklearn.preprocessing import OrdinalEncoder #Кодирование категориальных функций\n",
    "from sklearn.model_selection import train_test_split #Деление на выборки (тестовый набор данных)\n",
    "from sklearn.metrics import mean_squared_error\n",
    "\n",
    "from sklearn.linear_model import LinearRegression\n",
    "from sklearn.model_selection import cross_val_score #Оценит балл с помощью перекрестной проверки\n",
    "\n",
    "from sklearn.tree import DecisionTreeRegressor\n",
    "from sklearn.model_selection import GridSearchCV\n",
    "from catboost import CatBoostRegressor\n",
    "from lightgbm import LGBMRegressor"
   ]
  },
  {
   "cell_type": "code",
   "execution_count": 2,
   "metadata": {},
   "outputs": [
    {
     "data": {
      "text/html": [
       "<div>\n",
       "<style scoped>\n",
       "    .dataframe tbody tr th:only-of-type {\n",
       "        vertical-align: middle;\n",
       "    }\n",
       "\n",
       "    .dataframe tbody tr th {\n",
       "        vertical-align: top;\n",
       "    }\n",
       "\n",
       "    .dataframe thead th {\n",
       "        text-align: right;\n",
       "    }\n",
       "</style>\n",
       "<table border=\"1\" class=\"dataframe\">\n",
       "  <thead>\n",
       "    <tr style=\"text-align: right;\">\n",
       "      <th></th>\n",
       "      <th>DateCrawled</th>\n",
       "      <th>Price</th>\n",
       "      <th>VehicleType</th>\n",
       "      <th>RegistrationYear</th>\n",
       "      <th>Gearbox</th>\n",
       "      <th>Power</th>\n",
       "      <th>Model</th>\n",
       "      <th>Kilometer</th>\n",
       "      <th>RegistrationMonth</th>\n",
       "      <th>FuelType</th>\n",
       "      <th>Brand</th>\n",
       "      <th>NotRepaired</th>\n",
       "      <th>DateCreated</th>\n",
       "      <th>NumberOfPictures</th>\n",
       "      <th>PostalCode</th>\n",
       "      <th>LastSeen</th>\n",
       "    </tr>\n",
       "  </thead>\n",
       "  <tbody>\n",
       "    <tr>\n",
       "      <td>0</td>\n",
       "      <td>2016-03-24 11:52:17</td>\n",
       "      <td>480</td>\n",
       "      <td>NaN</td>\n",
       "      <td>1993</td>\n",
       "      <td>manual</td>\n",
       "      <td>0</td>\n",
       "      <td>golf</td>\n",
       "      <td>150000</td>\n",
       "      <td>0</td>\n",
       "      <td>petrol</td>\n",
       "      <td>volkswagen</td>\n",
       "      <td>NaN</td>\n",
       "      <td>2016-03-24 00:00:00</td>\n",
       "      <td>0</td>\n",
       "      <td>70435</td>\n",
       "      <td>2016-04-07 03:16:57</td>\n",
       "    </tr>\n",
       "    <tr>\n",
       "      <td>1</td>\n",
       "      <td>2016-03-24 10:58:45</td>\n",
       "      <td>18300</td>\n",
       "      <td>coupe</td>\n",
       "      <td>2011</td>\n",
       "      <td>manual</td>\n",
       "      <td>190</td>\n",
       "      <td>NaN</td>\n",
       "      <td>125000</td>\n",
       "      <td>5</td>\n",
       "      <td>gasoline</td>\n",
       "      <td>audi</td>\n",
       "      <td>yes</td>\n",
       "      <td>2016-03-24 00:00:00</td>\n",
       "      <td>0</td>\n",
       "      <td>66954</td>\n",
       "      <td>2016-04-07 01:46:50</td>\n",
       "    </tr>\n",
       "    <tr>\n",
       "      <td>2</td>\n",
       "      <td>2016-03-14 12:52:21</td>\n",
       "      <td>9800</td>\n",
       "      <td>suv</td>\n",
       "      <td>2004</td>\n",
       "      <td>auto</td>\n",
       "      <td>163</td>\n",
       "      <td>grand</td>\n",
       "      <td>125000</td>\n",
       "      <td>8</td>\n",
       "      <td>gasoline</td>\n",
       "      <td>jeep</td>\n",
       "      <td>NaN</td>\n",
       "      <td>2016-03-14 00:00:00</td>\n",
       "      <td>0</td>\n",
       "      <td>90480</td>\n",
       "      <td>2016-04-05 12:47:46</td>\n",
       "    </tr>\n",
       "    <tr>\n",
       "      <td>3</td>\n",
       "      <td>2016-03-17 16:54:04</td>\n",
       "      <td>1500</td>\n",
       "      <td>small</td>\n",
       "      <td>2001</td>\n",
       "      <td>manual</td>\n",
       "      <td>75</td>\n",
       "      <td>golf</td>\n",
       "      <td>150000</td>\n",
       "      <td>6</td>\n",
       "      <td>petrol</td>\n",
       "      <td>volkswagen</td>\n",
       "      <td>no</td>\n",
       "      <td>2016-03-17 00:00:00</td>\n",
       "      <td>0</td>\n",
       "      <td>91074</td>\n",
       "      <td>2016-03-17 17:40:17</td>\n",
       "    </tr>\n",
       "    <tr>\n",
       "      <td>4</td>\n",
       "      <td>2016-03-31 17:25:20</td>\n",
       "      <td>3600</td>\n",
       "      <td>small</td>\n",
       "      <td>2008</td>\n",
       "      <td>manual</td>\n",
       "      <td>69</td>\n",
       "      <td>fabia</td>\n",
       "      <td>90000</td>\n",
       "      <td>7</td>\n",
       "      <td>gasoline</td>\n",
       "      <td>skoda</td>\n",
       "      <td>no</td>\n",
       "      <td>2016-03-31 00:00:00</td>\n",
       "      <td>0</td>\n",
       "      <td>60437</td>\n",
       "      <td>2016-04-06 10:17:21</td>\n",
       "    </tr>\n",
       "  </tbody>\n",
       "</table>\n",
       "</div>"
      ],
      "text/plain": [
       "           DateCrawled  Price VehicleType  RegistrationYear Gearbox  Power  \\\n",
       "0  2016-03-24 11:52:17    480         NaN              1993  manual      0   \n",
       "1  2016-03-24 10:58:45  18300       coupe              2011  manual    190   \n",
       "2  2016-03-14 12:52:21   9800         suv              2004    auto    163   \n",
       "3  2016-03-17 16:54:04   1500       small              2001  manual     75   \n",
       "4  2016-03-31 17:25:20   3600       small              2008  manual     69   \n",
       "\n",
       "   Model  Kilometer  RegistrationMonth  FuelType       Brand NotRepaired  \\\n",
       "0   golf     150000                  0    petrol  volkswagen         NaN   \n",
       "1    NaN     125000                  5  gasoline        audi         yes   \n",
       "2  grand     125000                  8  gasoline        jeep         NaN   \n",
       "3   golf     150000                  6    petrol  volkswagen          no   \n",
       "4  fabia      90000                  7  gasoline       skoda          no   \n",
       "\n",
       "           DateCreated  NumberOfPictures  PostalCode             LastSeen  \n",
       "0  2016-03-24 00:00:00                 0       70435  2016-04-07 03:16:57  \n",
       "1  2016-03-24 00:00:00                 0       66954  2016-04-07 01:46:50  \n",
       "2  2016-03-14 00:00:00                 0       90480  2016-04-05 12:47:46  \n",
       "3  2016-03-17 00:00:00                 0       91074  2016-03-17 17:40:17  \n",
       "4  2016-03-31 00:00:00                 0       60437  2016-04-06 10:17:21  "
      ]
     },
     "metadata": {},
     "output_type": "display_data"
    },
    {
     "name": "stdout",
     "output_type": "stream",
     "text": [
      "<class 'pandas.core.frame.DataFrame'>\n",
      "RangeIndex: 354369 entries, 0 to 354368\n",
      "Data columns (total 16 columns):\n",
      "DateCrawled          354369 non-null object\n",
      "Price                354369 non-null int64\n",
      "VehicleType          316879 non-null object\n",
      "RegistrationYear     354369 non-null int64\n",
      "Gearbox              334536 non-null object\n",
      "Power                354369 non-null int64\n",
      "Model                334664 non-null object\n",
      "Kilometer            354369 non-null int64\n",
      "RegistrationMonth    354369 non-null int64\n",
      "FuelType             321474 non-null object\n",
      "Brand                354369 non-null object\n",
      "NotRepaired          283215 non-null object\n",
      "DateCreated          354369 non-null object\n",
      "NumberOfPictures     354369 non-null int64\n",
      "PostalCode           354369 non-null int64\n",
      "LastSeen             354369 non-null object\n",
      "dtypes: int64(7), object(9)\n",
      "memory usage: 43.3+ MB\n"
     ]
    }
   ],
   "source": [
    "df = pd.read_csv('/datasets/autos.csv')\n",
    "display(df.head())\n",
    "\n",
    "df.info()"
   ]
  },
  {
   "cell_type": "markdown",
   "metadata": {},
   "source": [
    "### Вывод"
   ]
  },
  {
   "cell_type": "markdown",
   "metadata": {},
   "source": [
    "Общая информация по стоблцам показало пустые значения в признаках. \n",
    "\n",
    "Нужно определится с тем, какие важные признаки мы берем для обучения модели и далее надо провести обработку для машинного обучения, в частности обработать строковые данные.\n",
    "\n",
    "Выделим следующие признаки:\n",
    "- VehicleType — тип автомобильного кузова. Тип кузова необходим для того чтобы определить предпочтения покупателя.\n",
    "- RegistrationYear — год регистрации автомобиля. Чем больше возраст, тем меньше цена.\n",
    "- Gearbox — тип коробки передач. Наличие автоматической коробки передач повышает стоимость машины.\n",
    "- Power — мощность (лош.сила). важный критерий которая влияют на цену.\n",
    "- Model — модель автомобиля. \n",
    "- Kilometer — пробег (км). Чем больше километров проехала машина, тем меньше цена.\n",
    "- FuelType — тип топлива.\n",
    "- Brand — марка автомобиля. Показывает качество и надежность автомобиля.\n",
    "- NotRepaired — была машина в ремонте или нет. Влияет на стоимость машины.\n",
    "\n",
    "Целевой признак:\n",
    "\n",
    "- Price — цена (евро)\n",
    "\n",
    "\n",
    "Создаем новый Датасет с нужными признаками"
   ]
  },
  {
   "cell_type": "code",
   "execution_count": 3,
   "metadata": {},
   "outputs": [
    {
     "data": {
      "text/html": [
       "<div>\n",
       "<style scoped>\n",
       "    .dataframe tbody tr th:only-of-type {\n",
       "        vertical-align: middle;\n",
       "    }\n",
       "\n",
       "    .dataframe tbody tr th {\n",
       "        vertical-align: top;\n",
       "    }\n",
       "\n",
       "    .dataframe thead th {\n",
       "        text-align: right;\n",
       "    }\n",
       "</style>\n",
       "<table border=\"1\" class=\"dataframe\">\n",
       "  <thead>\n",
       "    <tr style=\"text-align: right;\">\n",
       "      <th></th>\n",
       "      <th>VehicleType</th>\n",
       "      <th>RegistrationYear</th>\n",
       "      <th>Gearbox</th>\n",
       "      <th>Power</th>\n",
       "      <th>Model</th>\n",
       "      <th>Kilometer</th>\n",
       "      <th>FuelType</th>\n",
       "      <th>Brand</th>\n",
       "      <th>NotRepaired</th>\n",
       "      <th>Price</th>\n",
       "    </tr>\n",
       "  </thead>\n",
       "  <tbody>\n",
       "    <tr>\n",
       "      <td>0</td>\n",
       "      <td>NaN</td>\n",
       "      <td>1993</td>\n",
       "      <td>manual</td>\n",
       "      <td>0</td>\n",
       "      <td>golf</td>\n",
       "      <td>150000</td>\n",
       "      <td>petrol</td>\n",
       "      <td>volkswagen</td>\n",
       "      <td>NaN</td>\n",
       "      <td>480</td>\n",
       "    </tr>\n",
       "    <tr>\n",
       "      <td>1</td>\n",
       "      <td>coupe</td>\n",
       "      <td>2011</td>\n",
       "      <td>manual</td>\n",
       "      <td>190</td>\n",
       "      <td>NaN</td>\n",
       "      <td>125000</td>\n",
       "      <td>gasoline</td>\n",
       "      <td>audi</td>\n",
       "      <td>yes</td>\n",
       "      <td>18300</td>\n",
       "    </tr>\n",
       "    <tr>\n",
       "      <td>2</td>\n",
       "      <td>suv</td>\n",
       "      <td>2004</td>\n",
       "      <td>auto</td>\n",
       "      <td>163</td>\n",
       "      <td>grand</td>\n",
       "      <td>125000</td>\n",
       "      <td>gasoline</td>\n",
       "      <td>jeep</td>\n",
       "      <td>NaN</td>\n",
       "      <td>9800</td>\n",
       "    </tr>\n",
       "    <tr>\n",
       "      <td>3</td>\n",
       "      <td>small</td>\n",
       "      <td>2001</td>\n",
       "      <td>manual</td>\n",
       "      <td>75</td>\n",
       "      <td>golf</td>\n",
       "      <td>150000</td>\n",
       "      <td>petrol</td>\n",
       "      <td>volkswagen</td>\n",
       "      <td>no</td>\n",
       "      <td>1500</td>\n",
       "    </tr>\n",
       "    <tr>\n",
       "      <td>4</td>\n",
       "      <td>small</td>\n",
       "      <td>2008</td>\n",
       "      <td>manual</td>\n",
       "      <td>69</td>\n",
       "      <td>fabia</td>\n",
       "      <td>90000</td>\n",
       "      <td>gasoline</td>\n",
       "      <td>skoda</td>\n",
       "      <td>no</td>\n",
       "      <td>3600</td>\n",
       "    </tr>\n",
       "  </tbody>\n",
       "</table>\n",
       "</div>"
      ],
      "text/plain": [
       "  VehicleType  RegistrationYear Gearbox  Power  Model  Kilometer  FuelType  \\\n",
       "0         NaN              1993  manual      0   golf     150000    petrol   \n",
       "1       coupe              2011  manual    190    NaN     125000  gasoline   \n",
       "2         suv              2004    auto    163  grand     125000  gasoline   \n",
       "3       small              2001  manual     75   golf     150000    petrol   \n",
       "4       small              2008  manual     69  fabia      90000  gasoline   \n",
       "\n",
       "        Brand NotRepaired  Price  \n",
       "0  volkswagen         NaN    480  \n",
       "1        audi         yes  18300  \n",
       "2        jeep         NaN   9800  \n",
       "3  volkswagen          no   1500  \n",
       "4       skoda          no   3600  "
      ]
     },
     "metadata": {},
     "output_type": "display_data"
    },
    {
     "name": "stdout",
     "output_type": "stream",
     "text": [
      "Пропуски в признаках\n"
     ]
    },
    {
     "data": {
      "text/plain": [
       "VehicleType         37490\n",
       "RegistrationYear        0\n",
       "Gearbox             19833\n",
       "Power                   0\n",
       "Model               19705\n",
       "Kilometer               0\n",
       "FuelType            32895\n",
       "Brand                   0\n",
       "NotRepaired         71154\n",
       "Price                   0\n",
       "dtype: int64"
      ]
     },
     "execution_count": 3,
     "metadata": {},
     "output_type": "execute_result"
    }
   ],
   "source": [
    "df = df[['VehicleType','RegistrationYear','Gearbox','Power','Model','Kilometer','FuelType','Brand','NotRepaired','Price']]\n",
    "display(df.head())\n",
    "\n",
    "print('Пропуски в признаках')\n",
    "df.isna().sum()"
   ]
  },
  {
   "cell_type": "markdown",
   "metadata": {},
   "source": [
    "<div class=\"alert alert-block alert-success\">\n",
    "<b>Комментарий ревьюера:</b> \n",
    "    \n",
    "Лишние признаки найдены верно. Стоило их отдельно перечислить :)    \n",
    "</div>"
   ]
  },
  {
   "cell_type": "markdown",
   "metadata": {},
   "source": [
    "Предобработка данных\n",
    "1. Определение уникальных значений в признаках"
   ]
  },
  {
   "cell_type": "code",
   "execution_count": 4,
   "metadata": {},
   "outputs": [],
   "source": [
    "def column_uniq(data):\n",
    "    for r in data.columns.tolist():\n",
    "        print(r)\n",
    "        print(data[r].unique(),'\\n')\n"
   ]
  },
  {
   "cell_type": "code",
   "execution_count": 5,
   "metadata": {},
   "outputs": [
    {
     "name": "stdout",
     "output_type": "stream",
     "text": [
      "VehicleType\n",
      "[nan 'coupe' 'suv' 'small' 'sedan' 'convertible' 'bus' 'wagon' 'other'] \n",
      "\n",
      "RegistrationYear\n",
      "[1993 2011 2004 2001 2008 1995 1980 2014 1998 2005 1910 2016 2007 2009\n",
      " 2002 2018 1997 1990 2017 1981 2003 1994 1991 1984 2006 1999 2012 2010\n",
      " 2000 1992 2013 1996 1985 1989 2015 1982 1976 1983 1973 1111 1969 1971\n",
      " 1987 1986 1988 1970 1965 1945 1925 1974 1979 1955 1978 1972 1968 1977\n",
      " 1961 1960 1966 1975 1963 1964 5000 1954 1958 1967 1959 9999 1956 3200\n",
      " 1000 1941 8888 1500 2200 4100 1962 1929 1957 1940 3000 2066 1949 2019\n",
      " 1937 1951 1800 1953 1234 8000 5300 9000 2900 6000 5900 5911 1933 1400\n",
      " 1950 4000 1948 1952 1200 8500 1932 1255 3700 3800 4800 1942 7000 1935\n",
      " 1936 6500 1923 2290 2500 1930 1001 9450 1944 1943 1934 1938 1688 2800\n",
      " 1253 1928 1919 5555 5600 1600 2222 1039 9996 1300 8455 1931 1915 4500\n",
      " 1920 1602 7800 9229 1947 1927 7100 8200 1946 7500 3500] \n",
      "\n",
      "Gearbox\n",
      "['manual' 'auto' nan] \n",
      "\n",
      "Power\n",
      "[    0   190   163    75    69   102   109    50   125   101   105   140\n",
      "   115   131    60   136   160   231    90   118   193    99   113   218\n",
      "   122   129    70   306    95    61   177    80   170    55   143    64\n",
      "   286   232   150   156    82   155    54   185    87   180    86    84\n",
      "   224   235   200   178   265    77   110   144   120   116   184   126\n",
      "   204    88   194   305   197   179   250    45   313    41   165    98\n",
      "   130   114   211    56   201   213    58   107    83   174   100   220\n",
      "    85    73   192    68    66   299    74    52   147    65   310    71\n",
      "    97   239   203     5   300   103   258   320    63    81   148    44\n",
      "   145   230   280   260   104   188   333   186   117   141    59   132\n",
      "   234   158    39    92    51   135    53   209    43   146    67   106\n",
      "   166   276   344    72   249   237   245   111   326   279    23   138\n",
      "   175    96   226    26    37   301   334   128   133   124    33   219\n",
      "   241   167    94   182   196   238  1398   228   112    48   272   139\n",
      "  1799    40   240    79   256   360   243   375   252   396   340   108\n",
      "   121   345   187   289   222   198   284   450   233   387   152   347\n",
      "   172    57   137   212   476   314    30     7    47   173   290   207\n",
      "   205   171   750    78    91    89   349   325    76   151   350   953\n",
      "    93   142   500   343   199   119   164    16   264   367   208   210\n",
      "    46   435  1001   225   127   176   161   603   307   354    35   206\n",
      "   771   355   273   223   255   123   154   149  7515  1400   268   620\n",
      "   169   400   275    34     2   242  1779   285   162   328  1753   329\n",
      "   134   420   247   168 10317   215    18   330   283    62    10   214\n",
      "   183   254    15   321   322   315   952   600   181   426   599   379\n",
      "   999    22   157    42   195   553     4   309   507   381   271   440\n",
      "   189   401  1111  2729    21   236  1240  1704   521     1  1900   270\n",
      "    24   159   292   808   515  1200   303    29    38  1993    14   216\n",
      "   610   504    49   267   331   363   261   385  1011   253   696 10520\n",
      "   376   227   311    27   217    20  1999    11  1056    25   394    12\n",
      "   298   296  1659   294   551  6920   246    17  1800  1625   368   390\n",
      "   221  1367   259   606   327  2017  1597   266   374   392     9   405\n",
      "    13   262   601   430   295     8   411   900   541  7512   382 10218\n",
      "  7544  1102   287    19   751   297  1090   457   282   602   388     6\n",
      "  1000  5411   335  1360   202  3750   805  1062  1024 11530   364  1796\n",
      "  5000   269   460  1002   288  1780 12012 17932   316  2005  1399   191\n",
      "   278  1300   380   257   449  1256   153  1653   520   560   281 12510\n",
      "     3  1500   386    32  1202  2016  1436  1405   671   274  1288  1055\n",
      " 10912 15016  6226  1115   277  1105   341  1223  2340  8404  1968   338\n",
      "   445  1920   370   517  4400 10710 10522  9010   431  1164 11509   371\n",
      "  1501   428 11635    36   304   348  1703  1910  1995   579 10000   580\n",
      "   408    31  1005   358  1403   489  5575 19211   585   960   365   353\n",
      "   490   352  1801   346   550  3199   800  7508  1312   357  1937   950\n",
      "  4700  1600  3454 19208   251   850   337   700  8011  2331  2789   487\n",
      "   519  2461  6006  3500  5815  6018  1781  1503   612  1596   229  1506\n",
      "  5809 15020  5867  2172  1598 17410  1363   584  1054   851  1339   318\n",
      "   510   525  1700    28  1151   685  6011   317   703  1771 15001   514\n",
      "   362   332   324  6045   530   425   308  6010   475   903   640  2000\n",
      "   248   651  2799 17011   505  1103  1521   351 16051   398  9000  1998\n",
      " 10311   409  1230 17019 12684  8259  1895   901  1317   871   909  2201\n",
      "  1595   776 17700 11011  1199   459  1162  1120 15033  1896   339   361\n",
      "   574  6512   454   650 13616   604   607 16312  1082   336 20000   416\n",
      "   678  6012  1401  1021  1870 13636  1250  9710   323  1158  2009   902\n",
      "  6062  1275   572   244   399  1016   743  1221  2402 16011  1362   544\n",
      "   645   907   702 12512  1986  1003  1432  9013  9011   442  1017  1394\n",
      " 15017 10910  1992   540  2018 11025  1433  1701  2792  1502  1239  1390\n",
      " 14009  1160  1351 11111  1783  9007   923  1149   754  1988   402  2004\n",
      "  5420  1793  1324   356  7511  1299   293 19312  1079  1689   998  1100\n",
      "  9012  1933   508 16311   682  1252  1922  7529   732  2389  2200  1707\n",
      "  1416  8500  1012   485  3000 10110   421  4507  1631  7518   377  1004\n",
      "  2007  2598  1548  1241] \n",
      "\n",
      "Model\n",
      "['golf' nan 'grand' 'fabia' '3er' '2_reihe' 'other' 'c_max' '3_reihe'\n",
      " 'passat' 'navara' 'ka' 'polo' 'twingo' 'a_klasse' 'scirocco' '5er'\n",
      " 'meriva' 'arosa' 'c4' 'civic' 'transporter' 'punto' 'e_klasse' 'clio'\n",
      " 'kadett' 'kangoo' 'corsa' 'one' 'fortwo' '1er' 'b_klasse' 'signum'\n",
      " 'astra' 'a8' 'jetta' 'fiesta' 'c_klasse' 'micra' 'vito' 'sprinter' '156'\n",
      " 'escort' 'forester' 'xc_reihe' 'scenic' 'a4' 'a1' 'insignia' 'combo'\n",
      " 'focus' 'tt' 'a6' 'jazz' 'omega' 'slk' '7er' '80' '147' '100' 'z_reihe'\n",
      " 'sportage' 'sorento' 'v40' 'ibiza' 'mustang' 'eos' 'touran' 'getz' 'a3'\n",
      " 'almera' 'megane' 'lupo' 'r19' 'zafira' 'caddy' 'mondeo' 'cordoba' 'colt'\n",
      " 'impreza' 'vectra' 'berlingo' 'tiguan' 'i_reihe' 'espace' 'sharan'\n",
      " '6_reihe' 'panda' 'up' 'seicento' 'ceed' '5_reihe' 'yeti' 'octavia' 'mii'\n",
      " 'rx_reihe' '6er' 'modus' 'fox' 'matiz' 'beetle' 'c1' 'rio' 'touareg'\n",
      " 'logan' 'spider' 'cuore' 's_max' 'a2' 'galaxy' 'c3' 'viano' 's_klasse'\n",
      " '1_reihe' 'avensis' 'roomster' 'sl' 'kaefer' 'santa' 'cooper' 'leon'\n",
      " '4_reihe' 'a5' '500' 'laguna' 'ptcruiser' 'clk' 'primera' 'x_reihe'\n",
      " 'exeo' '159' 'transit' 'juke' 'qashqai' 'carisma' 'accord' 'corolla'\n",
      " 'lanos' 'phaeton' 'verso' 'swift' 'rav' 'picanto' 'boxster' 'kalos'\n",
      " 'superb' 'stilo' 'alhambra' 'mx_reihe' 'roadster' 'ypsilon' 'cayenne'\n",
      " 'galant' 'justy' '90' 'sirion' 'crossfire' 'agila' 'duster' 'cr_reihe'\n",
      " 'v50' 'c_reihe' 'v_klasse' 'm_klasse' 'yaris' 'c5' 'aygo' 'cc' 'carnival'\n",
      " 'fusion' '911' 'bora' 'forfour' 'm_reihe' 'cl' 'tigra' '300c' 'spark'\n",
      " 'v70' 'kuga' 'x_type' 'ducato' 's_type' 'x_trail' 'toledo' 'altea'\n",
      " 'voyager' 'calibra' 'bravo' 'antara' 'tucson' 'citigo' 'jimny' 'wrangler'\n",
      " 'lybra' 'q7' 'lancer' 'captiva' 'c2' 'discovery' 'freelander' 'sandero'\n",
      " 'note' '900' 'cherokee' 'clubman' 'samara' 'defender' '601' 'cx_reihe'\n",
      " 'legacy' 'pajero' 'auris' 'niva' 's60' 'nubira' 'vivaro' 'g_klasse'\n",
      " 'lodgy' '850' 'range_rover' 'q3' 'serie_2' 'glk' 'charade' 'croma'\n",
      " 'outlander' 'doblo' 'musa' 'move' '9000' 'v60' '145' 'aveo' '200' 'b_max'\n",
      " 'range_rover_sport' 'terios' 'rangerover' 'q5' 'range_rover_evoque'\n",
      " 'materia' 'delta' 'gl' 'kalina' 'amarok' 'elefantino' 'i3' 'kappa'\n",
      " 'serie_3' 'serie_1'] \n",
      "\n",
      "Kilometer\n",
      "[150000 125000  90000  40000  30000  70000   5000 100000  60000  20000\n",
      "  80000  50000  10000] \n",
      "\n",
      "FuelType\n",
      "['petrol' 'gasoline' nan 'lpg' 'other' 'hybrid' 'cng' 'electric'] \n",
      "\n",
      "Brand\n",
      "['volkswagen' 'audi' 'jeep' 'skoda' 'bmw' 'peugeot' 'ford' 'mazda'\n",
      " 'nissan' 'renault' 'mercedes_benz' 'opel' 'seat' 'citroen' 'honda' 'fiat'\n",
      " 'mini' 'smart' 'hyundai' 'sonstige_autos' 'alfa_romeo' 'subaru' 'volvo'\n",
      " 'mitsubishi' 'kia' 'suzuki' 'lancia' 'toyota' 'chevrolet' 'dacia'\n",
      " 'daihatsu' 'trabant' 'saab' 'chrysler' 'jaguar' 'daewoo' 'porsche'\n",
      " 'rover' 'land_rover' 'lada'] \n",
      "\n",
      "NotRepaired\n",
      "[nan 'yes' 'no'] \n",
      "\n",
      "Price\n",
      "[  480 18300  9800 ... 12395 18429 10985] \n",
      "\n"
     ]
    }
   ],
   "source": [
    "column_uniq(df)"
   ]
  },
  {
   "cell_type": "markdown",
   "metadata": {},
   "source": [
    "### Вывод"
   ]
  },
  {
   "cell_type": "markdown",
   "metadata": {},
   "source": [
    "- VehicleType. Nan заполним как 'other'\n",
    "\n",
    "- RegistrationYear. Некореектные годы регистрации.  Если учесть что год скачивания анкеты из базы 2016 год, поэтому последующие записи удалим.\n",
    "\n",
    "- Gearbox. Nan заполним как 'manual'\n",
    "\n",
    "- Power. Некорректные данные с мощностями. \n",
    "\n",
    "- Model. Nan заполним как 'other'\n",
    "\n",
    "- FuelType. Nan заполним как 'other'\n",
    "\n",
    "- NotRepaired. Nan заменим на 'yes'"
   ]
  },
  {
   "cell_type": "markdown",
   "metadata": {},
   "source": [
    "2. Обрабатываем пропуски и некорректные данные."
   ]
  },
  {
   "cell_type": "code",
   "execution_count": 6,
   "metadata": {},
   "outputs": [],
   "source": [
    "df[ 'VehicleType'] = df['VehicleType'].fillna('other')\n",
    "df[ 'Gearbox'] = df['VehicleType'].fillna('manual')\n",
    "df[ 'Model'] = df['Model'].fillna('other')\n",
    "df[ 'NotRepaired'] = df['NotRepaired'].fillna('yes')\n",
    "df[ 'FuelType'] = df['FuelType'].fillna('other')"
   ]
  },
  {
   "cell_type": "markdown",
   "metadata": {},
   "source": [
    "<div class=\"alert alert-block alert-success\">\n",
    "<b>Комментарий ревьюера:</b> \n",
    "Хорошо, пропуски заполнили.\n",
    "</div>"
   ]
  },
  {
   "cell_type": "code",
   "execution_count": 7,
   "metadata": {},
   "outputs": [
    {
     "data": {
      "image/png": "[encoded data removed]",
      "text/plain": [
       "<Figure size 432x288 with 1 Axes>"
      ]
     },
     "metadata": {
      "needs_background": "light"
     },
     "output_type": "display_data"
    }
   ],
   "source": [
    "df = df.query('RegistrationYear<2017')\n",
    "df['RegistrationYear'].plot.box()\n",
    "plt.title('RegistrationYear')\n",
    "plt.show()"
   ]
  },
  {
   "cell_type": "markdown",
   "metadata": {},
   "source": [
    "Попробуем указать диапозон с 1945 по 2016"
   ]
  },
  {
   "cell_type": "code",
   "execution_count": 8,
   "metadata": {},
   "outputs": [
    {
     "data": {
      "text/plain": [
       "count    339600.000000\n",
       "mean       2002.524046\n",
       "std           6.840249\n",
       "min        1946.000000\n",
       "25%        1999.000000\n",
       "50%        2003.000000\n",
       "75%        2007.000000\n",
       "max        2016.000000\n",
       "Name: RegistrationYear, dtype: float64"
      ]
     },
     "execution_count": 8,
     "metadata": {},
     "output_type": "execute_result"
    },
    {
     "data": {
      "image/png": "[encoded data removed]",
      "text/plain": [
       "<Figure size 864x720 with 1 Axes>"
      ]
     },
     "metadata": {
      "needs_background": "light"
     },
     "output_type": "display_data"
    }
   ],
   "source": [
    "df = df.query('1945<RegistrationYear')\n",
    "df['RegistrationYear'].hist(bins=100, figsize=(12,10))\n",
    "df['RegistrationYear'].describe()"
   ]
  },
  {
   "cell_type": "markdown",
   "metadata": {},
   "source": [
    "График показывавет, что можно указывать период с 1960 по 2016 годы. Собирём новый датасет"
   ]
  },
  {
   "cell_type": "code",
   "execution_count": 9,
   "metadata": {},
   "outputs": [
    {
     "data": {
      "text/plain": [
       "count    339229.000000\n",
       "mean       2002.573250\n",
       "std           6.679171\n",
       "min        1961.000000\n",
       "25%        1999.000000\n",
       "50%        2003.000000\n",
       "75%        2007.000000\n",
       "max        2016.000000\n",
       "Name: RegistrationYear, dtype: float64"
      ]
     },
     "execution_count": 9,
     "metadata": {},
     "output_type": "execute_result"
    },
    {
     "data": {
      "image/png": "[encoded data removed]",
      "text/plain": [
       "<Figure size 648x360 with 1 Axes>"
      ]
     },
     "metadata": {
      "needs_background": "light"
     },
     "output_type": "display_data"
    }
   ],
   "source": [
    "df = df.query('1960<RegistrationYear')\n",
    "df['RegistrationYear'].hist(bins=100, figsize=(9,5))\n",
    "df['RegistrationYear'].describe()"
   ]
  },
  {
   "cell_type": "markdown",
   "metadata": {},
   "source": [
    "Боксплотом рассмотрим данные признака Power"
   ]
  },
  {
   "cell_type": "code",
   "execution_count": 10,
   "metadata": {},
   "outputs": [
    {
     "data": {
      "image/png": "[encoded data removed]",
      "text/plain": [
       "<Figure size 432x288 with 1 Axes>"
      ]
     },
     "metadata": {
      "needs_background": "light"
     },
     "output_type": "display_data"
    }
   ],
   "source": [
    "df['Power'].plot.box()\n",
    "plt.title('Power')\n",
    "plt.show()"
   ]
  },
  {
   "cell_type": "markdown",
   "metadata": {},
   "source": [
    "Боксплот рекомендует использовать данные около 1000 л.с."
   ]
  },
  {
   "cell_type": "code",
   "execution_count": 11,
   "metadata": {},
   "outputs": [
    {
     "data": {
      "text/plain": [
       "count    338953.000000\n",
       "mean        107.813532\n",
       "std          63.872714\n",
       "min           0.000000\n",
       "25%          69.000000\n",
       "50%         105.000000\n",
       "75%         143.000000\n",
       "max        1000.000000\n",
       "Name: Power, dtype: float64"
      ]
     },
     "execution_count": 11,
     "metadata": {},
     "output_type": "execute_result"
    },
    {
     "data": {
      "image/png": "[encoded data removed]",
      "text/plain": [
       "<Figure size 864x720 with 1 Axes>"
      ]
     },
     "metadata": {
      "needs_background": "light"
     },
     "output_type": "display_data"
    }
   ],
   "source": [
    "df = df.query('Power<1001')\n",
    "df['Power'].hist(bins=100, figsize=(12,10))\n",
    "df['Power'].describe()"
   ]
  },
  {
   "cell_type": "markdown",
   "metadata": {},
   "source": [
    "На графике показывает что можно делать ещё отсечение данных в диапозоне 30 и 400"
   ]
  },
  {
   "cell_type": "code",
   "execution_count": 12,
   "metadata": {},
   "outputs": [
    {
     "data": {
      "text/plain": [
       "count    301507.000000\n",
       "mean        120.372495\n",
       "std          52.334568\n",
       "min          31.000000\n",
       "25%          75.000000\n",
       "50%         111.000000\n",
       "75%         150.000000\n",
       "max         399.000000\n",
       "Name: Power, dtype: float64"
      ]
     },
     "execution_count": 12,
     "metadata": {},
     "output_type": "execute_result"
    },
    {
     "data": {
      "image/png": "[encoded data removed]",
      "text/plain": [
       "<Figure size 864x720 with 1 Axes>"
      ]
     },
     "metadata": {
      "needs_background": "light"
     },
     "output_type": "display_data"
    }
   ],
   "source": [
    "df = df.query('30<Power<400')\n",
    "df['Power'].hist(bins=100, figsize=(12,10))\n",
    "df['Power'].describe()"
   ]
  },
  {
   "cell_type": "markdown",
   "metadata": {},
   "source": [
    "Удалим записи где цена авто равна нулю"
   ]
  },
  {
   "cell_type": "code",
   "execution_count": 13,
   "metadata": {},
   "outputs": [
    {
     "data": {
      "text/plain": [
       "count    295181.000000\n",
       "mean       4844.105962\n",
       "std        4601.028978\n",
       "min           1.000000\n",
       "25%        1340.000000\n",
       "50%        3200.000000\n",
       "75%        6990.000000\n",
       "max       20000.000000\n",
       "Name: Price, dtype: float64"
      ]
     },
     "execution_count": 13,
     "metadata": {},
     "output_type": "execute_result"
    },
    {
     "data": {
      "image/png": "[encoded data removed]",
      "text/plain": [
       "<Figure size 864x720 with 1 Axes>"
      ]
     },
     "metadata": {
      "needs_background": "light"
     },
     "output_type": "display_data"
    }
   ],
   "source": [
    "df = df.query('Price > 0')\n",
    "df['Price'].hist(bins=100, figsize=(12,10))\n",
    "df['Price'].describe()"
   ]
  },
  {
   "cell_type": "code",
   "execution_count": 14,
   "metadata": {},
   "outputs": [
    {
     "name": "stdout",
     "output_type": "stream",
     "text": [
      "<class 'pandas.core.frame.DataFrame'>\n",
      "Int64Index: 295181 entries, 1 to 354368\n",
      "Data columns (total 10 columns):\n",
      "VehicleType         295181 non-null object\n",
      "RegistrationYear    295181 non-null int64\n",
      "Gearbox             295181 non-null object\n",
      "Power               295181 non-null int64\n",
      "Model               295181 non-null object\n",
      "Kilometer           295181 non-null int64\n",
      "FuelType            295181 non-null object\n",
      "Brand               295181 non-null object\n",
      "NotRepaired         295181 non-null object\n",
      "Price               295181 non-null int64\n",
      "dtypes: int64(4), object(6)\n",
      "memory usage: 24.8+ MB\n"
     ]
    }
   ],
   "source": [
    "df.info()"
   ]
  },
  {
   "cell_type": "markdown",
   "metadata": {},
   "source": [
    "В датасете остаётся 295 181 записей. Далее необходимо строковые значения перевести в числовое обозначение."
   ]
  },
  {
   "cell_type": "markdown",
   "metadata": {},
   "source": [
    "<div class=\"alert alert-block alert-success\">\n",
    "<b>Комментарий ревьюера:</b> \n",
    "Данные очищены от аномалий 👍\n",
    "</div>"
   ]
  },
  {
   "cell_type": "markdown",
   "metadata": {},
   "source": [
    "### Вывод"
   ]
  },
  {
   "cell_type": "markdown",
   "metadata": {},
   "source": [
    "Предобработка данных завершена. Начинаем проводить обучение моделей"
   ]
  },
  {
   "cell_type": "markdown",
   "metadata": {},
   "source": [
    "## Обучение моделей"
   ]
  },
  {
   "cell_type": "markdown",
   "metadata": {},
   "source": [
    "попробуем сделать категориальное кодирование\n",
    "\n",
    "- прямое кодирование\n",
    "- OHE кодирование"
   ]
  },
  {
   "cell_type": "code",
   "execution_count": 15,
   "metadata": {},
   "outputs": [],
   "source": [
    "original_df = df.drop('Price', axis=1)\n",
    "target = df['Price']\n",
    "\n",
    "#Прямое кодирование\n",
    "encoder = OrdinalEncoder()\n",
    "cat_columns = ['VehicleType','Gearbox','Model','FuelType','Brand','NotRepaired']\n",
    "cat_features = df[cat_columns]\n",
    "cat_features = pd.DataFrame(encoder.fit_transform(cat_features),\n",
    "                                columns=cat_features.columns, \n",
    "                                index=cat_features.index)\n",
    "oe_features = original_df.copy()\n",
    "for column in cat_columns:\n",
    "    oe_features[column] = cat_features[column]\n",
    "\n",
    "#OHE кодирование\n",
    "ohe_features = pd.get_dummies(original_df, drop_first=True)"
   ]
  },
  {
   "cell_type": "code",
   "execution_count": 16,
   "metadata": {},
   "outputs": [
    {
     "data": {
      "text/html": [
       "<div>\n",
       "<style scoped>\n",
       "    .dataframe tbody tr th:only-of-type {\n",
       "        vertical-align: middle;\n",
       "    }\n",
       "\n",
       "    .dataframe tbody tr th {\n",
       "        vertical-align: top;\n",
       "    }\n",
       "\n",
       "    .dataframe thead th {\n",
       "        text-align: right;\n",
       "    }\n",
       "</style>\n",
       "<table border=\"1\" class=\"dataframe\">\n",
       "  <thead>\n",
       "    <tr style=\"text-align: right;\">\n",
       "      <th></th>\n",
       "      <th>RegistrationYear</th>\n",
       "      <th>Power</th>\n",
       "      <th>Kilometer</th>\n",
       "      <th>VehicleType_convertible</th>\n",
       "      <th>VehicleType_coupe</th>\n",
       "      <th>VehicleType_other</th>\n",
       "      <th>VehicleType_sedan</th>\n",
       "      <th>VehicleType_small</th>\n",
       "      <th>VehicleType_suv</th>\n",
       "      <th>VehicleType_wagon</th>\n",
       "      <th>...</th>\n",
       "      <th>Brand_skoda</th>\n",
       "      <th>Brand_smart</th>\n",
       "      <th>Brand_sonstige_autos</th>\n",
       "      <th>Brand_subaru</th>\n",
       "      <th>Brand_suzuki</th>\n",
       "      <th>Brand_toyota</th>\n",
       "      <th>Brand_trabant</th>\n",
       "      <th>Brand_volkswagen</th>\n",
       "      <th>Brand_volvo</th>\n",
       "      <th>NotRepaired_yes</th>\n",
       "    </tr>\n",
       "  </thead>\n",
       "  <tbody>\n",
       "    <tr>\n",
       "      <td>1</td>\n",
       "      <td>2011</td>\n",
       "      <td>190</td>\n",
       "      <td>125000</td>\n",
       "      <td>0</td>\n",
       "      <td>1</td>\n",
       "      <td>0</td>\n",
       "      <td>0</td>\n",
       "      <td>0</td>\n",
       "      <td>0</td>\n",
       "      <td>0</td>\n",
       "      <td>...</td>\n",
       "      <td>0</td>\n",
       "      <td>0</td>\n",
       "      <td>0</td>\n",
       "      <td>0</td>\n",
       "      <td>0</td>\n",
       "      <td>0</td>\n",
       "      <td>0</td>\n",
       "      <td>0</td>\n",
       "      <td>0</td>\n",
       "      <td>1</td>\n",
       "    </tr>\n",
       "    <tr>\n",
       "      <td>2</td>\n",
       "      <td>2004</td>\n",
       "      <td>163</td>\n",
       "      <td>125000</td>\n",
       "      <td>0</td>\n",
       "      <td>0</td>\n",
       "      <td>0</td>\n",
       "      <td>0</td>\n",
       "      <td>0</td>\n",
       "      <td>1</td>\n",
       "      <td>0</td>\n",
       "      <td>...</td>\n",
       "      <td>0</td>\n",
       "      <td>0</td>\n",
       "      <td>0</td>\n",
       "      <td>0</td>\n",
       "      <td>0</td>\n",
       "      <td>0</td>\n",
       "      <td>0</td>\n",
       "      <td>0</td>\n",
       "      <td>0</td>\n",
       "      <td>1</td>\n",
       "    </tr>\n",
       "    <tr>\n",
       "      <td>3</td>\n",
       "      <td>2001</td>\n",
       "      <td>75</td>\n",
       "      <td>150000</td>\n",
       "      <td>0</td>\n",
       "      <td>0</td>\n",
       "      <td>0</td>\n",
       "      <td>0</td>\n",
       "      <td>1</td>\n",
       "      <td>0</td>\n",
       "      <td>0</td>\n",
       "      <td>...</td>\n",
       "      <td>0</td>\n",
       "      <td>0</td>\n",
       "      <td>0</td>\n",
       "      <td>0</td>\n",
       "      <td>0</td>\n",
       "      <td>0</td>\n",
       "      <td>0</td>\n",
       "      <td>1</td>\n",
       "      <td>0</td>\n",
       "      <td>0</td>\n",
       "    </tr>\n",
       "    <tr>\n",
       "      <td>4</td>\n",
       "      <td>2008</td>\n",
       "      <td>69</td>\n",
       "      <td>90000</td>\n",
       "      <td>0</td>\n",
       "      <td>0</td>\n",
       "      <td>0</td>\n",
       "      <td>0</td>\n",
       "      <td>1</td>\n",
       "      <td>0</td>\n",
       "      <td>0</td>\n",
       "      <td>...</td>\n",
       "      <td>1</td>\n",
       "      <td>0</td>\n",
       "      <td>0</td>\n",
       "      <td>0</td>\n",
       "      <td>0</td>\n",
       "      <td>0</td>\n",
       "      <td>0</td>\n",
       "      <td>0</td>\n",
       "      <td>0</td>\n",
       "      <td>0</td>\n",
       "    </tr>\n",
       "    <tr>\n",
       "      <td>5</td>\n",
       "      <td>1995</td>\n",
       "      <td>102</td>\n",
       "      <td>150000</td>\n",
       "      <td>0</td>\n",
       "      <td>0</td>\n",
       "      <td>0</td>\n",
       "      <td>1</td>\n",
       "      <td>0</td>\n",
       "      <td>0</td>\n",
       "      <td>0</td>\n",
       "      <td>...</td>\n",
       "      <td>0</td>\n",
       "      <td>0</td>\n",
       "      <td>0</td>\n",
       "      <td>0</td>\n",
       "      <td>0</td>\n",
       "      <td>0</td>\n",
       "      <td>0</td>\n",
       "      <td>0</td>\n",
       "      <td>0</td>\n",
       "      <td>1</td>\n",
       "    </tr>\n",
       "  </tbody>\n",
       "</table>\n",
       "<p>5 rows × 311 columns</p>\n",
       "</div>"
      ],
      "text/plain": [
       "   RegistrationYear  Power  Kilometer  VehicleType_convertible  \\\n",
       "1              2011    190     125000                        0   \n",
       "2              2004    163     125000                        0   \n",
       "3              2001     75     150000                        0   \n",
       "4              2008     69      90000                        0   \n",
       "5              1995    102     150000                        0   \n",
       "\n",
       "   VehicleType_coupe  VehicleType_other  VehicleType_sedan  VehicleType_small  \\\n",
       "1                  1                  0                  0                  0   \n",
       "2                  0                  0                  0                  0   \n",
       "3                  0                  0                  0                  1   \n",
       "4                  0                  0                  0                  1   \n",
       "5                  0                  0                  1                  0   \n",
       "\n",
       "   VehicleType_suv  VehicleType_wagon  ...  Brand_skoda  Brand_smart  \\\n",
       "1                0                  0  ...            0            0   \n",
       "2                1                  0  ...            0            0   \n",
       "3                0                  0  ...            0            0   \n",
       "4                0                  0  ...            1            0   \n",
       "5                0                  0  ...            0            0   \n",
       "\n",
       "   Brand_sonstige_autos  Brand_subaru  Brand_suzuki  Brand_toyota  \\\n",
       "1                     0             0             0             0   \n",
       "2                     0             0             0             0   \n",
       "3                     0             0             0             0   \n",
       "4                     0             0             0             0   \n",
       "5                     0             0             0             0   \n",
       "\n",
       "   Brand_trabant  Brand_volkswagen  Brand_volvo  NotRepaired_yes  \n",
       "1              0                 0            0                1  \n",
       "2              0                 0            0                1  \n",
       "3              0                 1            0                0  \n",
       "4              0                 0            0                0  \n",
       "5              0                 0            0                1  \n",
       "\n",
       "[5 rows x 311 columns]"
      ]
     },
     "metadata": {},
     "output_type": "display_data"
    },
    {
     "data": {
      "text/html": [
       "<div>\n",
       "<style scoped>\n",
       "    .dataframe tbody tr th:only-of-type {\n",
       "        vertical-align: middle;\n",
       "    }\n",
       "\n",
       "    .dataframe tbody tr th {\n",
       "        vertical-align: top;\n",
       "    }\n",
       "\n",
       "    .dataframe thead th {\n",
       "        text-align: right;\n",
       "    }\n",
       "</style>\n",
       "<table border=\"1\" class=\"dataframe\">\n",
       "  <thead>\n",
       "    <tr style=\"text-align: right;\">\n",
       "      <th></th>\n",
       "      <th>VehicleType</th>\n",
       "      <th>RegistrationYear</th>\n",
       "      <th>Gearbox</th>\n",
       "      <th>Power</th>\n",
       "      <th>Model</th>\n",
       "      <th>Kilometer</th>\n",
       "      <th>FuelType</th>\n",
       "      <th>Brand</th>\n",
       "      <th>NotRepaired</th>\n",
       "    </tr>\n",
       "  </thead>\n",
       "  <tbody>\n",
       "    <tr>\n",
       "      <td>1</td>\n",
       "      <td>2.0</td>\n",
       "      <td>2011</td>\n",
       "      <td>2.0</td>\n",
       "      <td>190</td>\n",
       "      <td>166.0</td>\n",
       "      <td>125000</td>\n",
       "      <td>2.0</td>\n",
       "      <td>1.0</td>\n",
       "      <td>1.0</td>\n",
       "    </tr>\n",
       "    <tr>\n",
       "      <td>2</td>\n",
       "      <td>6.0</td>\n",
       "      <td>2004</td>\n",
       "      <td>6.0</td>\n",
       "      <td>163</td>\n",
       "      <td>117.0</td>\n",
       "      <td>125000</td>\n",
       "      <td>2.0</td>\n",
       "      <td>14.0</td>\n",
       "      <td>1.0</td>\n",
       "    </tr>\n",
       "    <tr>\n",
       "      <td>3</td>\n",
       "      <td>5.0</td>\n",
       "      <td>2001</td>\n",
       "      <td>5.0</td>\n",
       "      <td>75</td>\n",
       "      <td>116.0</td>\n",
       "      <td>150000</td>\n",
       "      <td>6.0</td>\n",
       "      <td>38.0</td>\n",
       "      <td>0.0</td>\n",
       "    </tr>\n",
       "    <tr>\n",
       "      <td>4</td>\n",
       "      <td>5.0</td>\n",
       "      <td>2008</td>\n",
       "      <td>5.0</td>\n",
       "      <td>69</td>\n",
       "      <td>101.0</td>\n",
       "      <td>90000</td>\n",
       "      <td>2.0</td>\n",
       "      <td>31.0</td>\n",
       "      <td>0.0</td>\n",
       "    </tr>\n",
       "    <tr>\n",
       "      <td>5</td>\n",
       "      <td>4.0</td>\n",
       "      <td>1995</td>\n",
       "      <td>4.0</td>\n",
       "      <td>102</td>\n",
       "      <td>11.0</td>\n",
       "      <td>150000</td>\n",
       "      <td>6.0</td>\n",
       "      <td>2.0</td>\n",
       "      <td>1.0</td>\n",
       "    </tr>\n",
       "  </tbody>\n",
       "</table>\n",
       "</div>"
      ],
      "text/plain": [
       "   VehicleType  RegistrationYear  Gearbox  Power  Model  Kilometer  FuelType  \\\n",
       "1          2.0              2011      2.0    190  166.0     125000       2.0   \n",
       "2          6.0              2004      6.0    163  117.0     125000       2.0   \n",
       "3          5.0              2001      5.0     75  116.0     150000       6.0   \n",
       "4          5.0              2008      5.0     69  101.0      90000       2.0   \n",
       "5          4.0              1995      4.0    102   11.0     150000       6.0   \n",
       "\n",
       "   Brand  NotRepaired  \n",
       "1    1.0          1.0  \n",
       "2   14.0          1.0  \n",
       "3   38.0          0.0  \n",
       "4   31.0          0.0  \n",
       "5    2.0          1.0  "
      ]
     },
     "metadata": {},
     "output_type": "display_data"
    }
   ],
   "source": [
    "display(ohe_features.head())\n",
    "display(oe_features.head())"
   ]
  },
  {
   "cell_type": "markdown",
   "metadata": {},
   "source": [
    "<div class=\"alert alert-block alert-warning\">\n",
    "<b>Комментарий ревьюера:</b> \n",
    "    \n",
    "~~Для порядкового кодирования **набора** столбцов (а не одного столбца) предпочтительно использовать OrdinalEncoder()~~\n",
    "</div>"
   ]
  },
  {
   "cell_type": "markdown",
   "metadata": {},
   "source": [
    "<div class=\"alert alert-block alert-info\">\n",
    "<b>Комментарий студента:</b> \n",
    "Поменяла метод кодирования. Сделала два способа кодирования, чтоб вызывать в обучении нужное.\n",
    "</div>"
   ]
  },
  {
   "cell_type": "markdown",
   "metadata": {},
   "source": [
    "<div class=\"alert alert-block alert-success\">\n",
    "<b>Комментарий ревьюера v2:</b>    \n",
    "Хорошо!\n",
    "    \n",
    "Проще так:\n",
    "    \n",
    "    oe_features = original_df.copy()\n",
    "    encoder = OrdinalEncoder()\n",
    "    oe_features[cat_columns] = encoder.fit_transform(oe_features[cat_columns])\n",
    "</div>"
   ]
  },
  {
   "cell_type": "code",
   "execution_count": 17,
   "metadata": {},
   "outputs": [],
   "source": [
    "features_train, features_test, target_train, target_test = train_test_split(\n",
    "    original_df, target, test_size=0.25, random_state=12345)\n",
    "\n",
    "oe_features_train = oe_features.loc[features_train.index, :]\n",
    "oe_features_test = oe_features.loc[features_test.index, :]\n",
    "\n",
    "ohe_features_train = ohe_features.loc[features_train.index, :]\n",
    "ohe_features_test = ohe_features.loc[features_test.index, :]"
   ]
  },
  {
   "cell_type": "markdown",
   "metadata": {},
   "source": [
    "<div class=\"alert alert-block alert-success\">\n",
    "<b>Комментарий ревьюера:</b> \n",
    "Отлично, данные готовы для обучения.\n",
    "</div>"
   ]
  },
  {
   "cell_type": "markdown",
   "metadata": {},
   "source": [
    "Выберем следующие регрессоры для обучения модели:\n",
    "\n",
    "- LinearRegression\n",
    "\n",
    "- DecisionTreeRegressor\n",
    "\n",
    "- CatBoostRegressor\n",
    "\n",
    "- LGBMRegressor"
   ]
  },
  {
   "cell_type": "markdown",
   "metadata": {},
   "source": [
    "<b>Линейная регрессия</b>"
   ]
  },
  {
   "cell_type": "code",
   "execution_count": 18,
   "metadata": {},
   "outputs": [
    {
     "name": "stdout",
     "output_type": "stream",
     "text": [
      "RMSE LinearRegression-  2562.9839521723643 , time  88.214\n",
      "CPU times: user 1min 1s, sys: 26.6 s, total: 1min 28s\n",
      "Wall time: 1min 28s\n"
     ]
    }
   ],
   "source": [
    "%%time\n",
    "\n",
    "start_time = time.time()\n",
    "model_LR = LinearRegression()\n",
    "#model_LR.fit(features_train, target_train)\n",
    "RMSE_LR = (cross_val_score(model_LR,ohe_features_train,target_train, cv=5, scoring='neg_mean_squared_error').mean() * -1) ** 0.5\n",
    "stop_time = time.time()\n",
    "time_LR = round(stop_time - start_time,3)\n",
    "print('RMSE LinearRegression- ', RMSE_LR, ', time ', time_LR)"
   ]
  },
  {
   "cell_type": "markdown",
   "metadata": {},
   "source": [
    "<div class=\"alert alert-block alert-danger\">\n",
    "<b>Комментарий ревьюера:</b> \n",
    "    \n",
    "~~Для модели линейной регрессии (да и всех линейных моделей) категориальные признаки должны быть закодированы с помощью OHE-кодирования. Порядковое кодирование использовать некорректно, так как линейные модели используют арифметические операции над признаками.~~\n",
    "</div>"
   ]
  },
  {
   "cell_type": "markdown",
   "metadata": {},
   "source": [
    "<div class=\"alert alert-block alert-info\">\n",
    "<b>Комментарий студента:</b> \n",
    "Вызвала OHE-кодирования.\n",
    "</div>"
   ]
  },
  {
   "cell_type": "markdown",
   "metadata": {},
   "source": [
    "<div class=\"alert alert-block alert-success\">\n",
    "<b>Комментарий ревьюера:</b> \n",
    "Для остальных моделей, действительно, можно использовать порядковое кодирование.\n",
    "</div>"
   ]
  },
  {
   "cell_type": "markdown",
   "metadata": {},
   "source": [
    "<div class=\"alert alert-block alert-success\">\n",
    "<b>Комментарий ревьюера:</b> \n",
    "    \n",
    "~~Зачем настраивать модель model_LR.fit(...) до вызова cross_val_score(..)? Это лишнее действие, которое увеличивает время работы кода. ~~ \n",
    "    \n",
    "RMSE на кросс-валидации вычислено корректно.\n",
    "\n",
    "</div>"
   ]
  },
  {
   "cell_type": "markdown",
   "metadata": {},
   "source": [
    "<b>Регрессия DecisionTreeRegressor</b>"
   ]
  },
  {
   "cell_type": "code",
   "execution_count": 19,
   "metadata": {
    "scrolled": false
   },
   "outputs": [
    {
     "name": "stdout",
     "output_type": "stream",
     "text": [
      "{'criterion': 'mse', 'max_depth': 14, 'random_state': 12345}\n",
      "3180.210476 for {'criterion': 'mse', 'max_depth': 2, 'random_state': 12345}\n",
      "2916.537783 for {'criterion': 'mse', 'max_depth': 3, 'random_state': 12345}\n",
      "2590.053041 for {'criterion': 'mse', 'max_depth': 4, 'random_state': 12345}\n",
      "2411.998303 for {'criterion': 'mse', 'max_depth': 5, 'random_state': 12345}\n",
      "2266.136178 for {'criterion': 'mse', 'max_depth': 6, 'random_state': 12345}\n",
      "2165.333678 for {'criterion': 'mse', 'max_depth': 7, 'random_state': 12345}\n",
      "2081.194710 for {'criterion': 'mse', 'max_depth': 8, 'random_state': 12345}\n",
      "2014.417299 for {'criterion': 'mse', 'max_depth': 9, 'random_state': 12345}\n",
      "1958.271284 for {'criterion': 'mse', 'max_depth': 10, 'random_state': 12345}\n",
      "1918.689738 for {'criterion': 'mse', 'max_depth': 11, 'random_state': 12345}\n",
      "1890.322296 for {'criterion': 'mse', 'max_depth': 12, 'random_state': 12345}\n",
      "1870.608691 for {'criterion': 'mse', 'max_depth': 13, 'random_state': 12345}\n",
      "1867.789890 for {'criterion': 'mse', 'max_depth': 14, 'random_state': 12345}\n",
      "1879.489244 for {'criterion': 'mse', 'max_depth': 15, 'random_state': 12345}\n",
      "1887.288620 for {'criterion': 'mse', 'max_depth': 16, 'random_state': 12345}\n",
      "1898.134844 for {'criterion': 'mse', 'max_depth': 17, 'random_state': 12345}\n",
      "1910.688429 for {'criterion': 'mse', 'max_depth': 18, 'random_state': 12345}\n",
      "1915.208870 for {'criterion': 'mse', 'max_depth': 19, 'random_state': 12345}\n",
      "1925.715666 for {'criterion': 'mse', 'max_depth': 20, 'random_state': 12345}\n",
      "1937.732456 for {'criterion': 'mse', 'max_depth': 21, 'random_state': 12345}\n",
      "1942.613397 for {'criterion': 'mse', 'max_depth': 22, 'random_state': 12345}\n",
      "1943.503314 for {'criterion': 'mse', 'max_depth': 23, 'random_state': 12345}\n",
      "1946.509306 for {'criterion': 'mse', 'max_depth': 24, 'random_state': 12345}\n",
      "1948.607936 for {'criterion': 'mse', 'max_depth': 25, 'random_state': 12345}\n",
      "1951.573339 for {'criterion': 'mse', 'max_depth': 26, 'random_state': 12345}\n",
      "1949.787231 for {'criterion': 'mse', 'max_depth': 27, 'random_state': 12345}\n",
      "1947.102474 for {'criterion': 'mse', 'max_depth': 28, 'random_state': 12345}\n",
      "1949.639950 for {'criterion': 'mse', 'max_depth': 29, 'random_state': 12345}\n",
      "1948.684693 for {'criterion': 'mse', 'max_depth': 30, 'random_state': 12345}\n",
      "\n",
      "RMSE DecisionTreeRegressor-  1867.7898902715483 , time  320.558\n",
      "CPU times: user 1min 21s, sys: 0 ns, total: 1min 21s\n",
      "Wall time: 5min 20s\n"
     ]
    }
   ],
   "source": [
    "%%time\n",
    "\n",
    "start_time = time.time()\n",
    "model_DTR = DecisionTreeRegressor() \n",
    "max_depth_list = [x for x in range(2, 31)]\n",
    "hyperparams = [{'criterion':['mse'], 'max_depth':max_depth_list, 'random_state':[12345]}]\n",
    "\n",
    " \n",
    "clf = GridSearchCV(model_DTR, hyperparams, cv=5, scoring='neg_mean_squared_error')\n",
    "clf.fit(oe_features_train, target_train)\n",
    "print(clf.best_params_)\n",
    "means = clf.cv_results_['mean_test_score']\n",
    "stds = clf.cv_results_['std_test_score']\n",
    "for mean, std, params in zip(means, stds, clf.cv_results_['params']):\n",
    "    print(\"%0.6f for %r\"% ((mean*-1)** 0.5, params))\n",
    "print()\n",
    "\n",
    "RMSE_DTR = (max(means)*-1) ** 0.5\n",
    "stop_time = time.time()\n",
    "time_DTR = round(stop_time - start_time,3)\n",
    "print('RMSE DecisionTreeRegressor- ', RMSE_DTR, ', time ', time_DTR)"
   ]
  },
  {
   "cell_type": "markdown",
   "metadata": {},
   "source": [
    "<div class=\"alert alert-block alert-warning\">\n",
    "<b>Комментарий ревьюера:</b> \n",
    "\n",
    "~~1) Здесь и ниже при вызове GridSearchCV(...) указывай число блоков cv, чтобы все эксперименты проходили по одной схеме. Для линейной регрессии было cv=5.~~\n",
    "    \n",
    "~~2) Качество на кросс-валидации для модели с лучшими гиперпараметрами проще найти так:    \n",
    "    clf.best_score_~~\n",
    "</div>\n",
    "\n",
    "<div class=\"alert alert-block alert-success\">\n",
    "<b>Комментарий ревьюера:</b> \n",
    "Отлично, подобрали гиперпараметры для модели решающего дерева.\n",
    "</div>"
   ]
  },
  {
   "cell_type": "markdown",
   "metadata": {},
   "source": [
    "<div class=\"alert alert-block alert-info\">\n",
    "<b>Комментарий студента:</b> \n",
    "\n",
    "    cv=5.  +\n",
    "     clf.best_score_  не смогла разобраться.    \n",
    "</div>"
   ]
  },
  {
   "cell_type": "markdown",
   "metadata": {},
   "source": [
    "<div class=\"alert alert-block alert-danger\">\n",
    "<b>Комментарий ревьюера v2:</b>    \n",
    "    \n",
    "~~Для модели решающего дерева предпочтительнее использовать **порядковое** кодирование категориальных признаков. Из-за большого числа признаков при OHE-кодировании модель будет работать медленнее и менее эффективно.~~ \n",
    "    \n",
    "~~Как вариант, можно построить модели как для OHE, так и для порядкового кодирования, и сравнить результаты. Но это по желанию :)~~\n",
    "</div>"
   ]
  },
  {
   "cell_type": "markdown",
   "metadata": {},
   "source": [
    "<div class=\"alert alert-block alert-info\">\n",
    "<b>Комментарий студента v2:</b> \n",
    "Дейсвительно обработка моментальная, спасибо. )\n",
    "Не стала два способа выкладывать и чтоб ждать долгой обработки. Но я честно увидела разницу )\n",
    "</div>"
   ]
  },
  {
   "cell_type": "markdown",
   "metadata": {},
   "source": [
    "<div class=\"alert alert-block alert-success\">\n",
    "<b>Комментарий ревьюера v2:</b>    \n",
    "\n",
    "Извини, комментарий насчет best_score_ должен был быть все-таки зеленым, а не желтым. Я имела в виду то, что качество на кросс-валидации для лучшего набора гиперпараметров (RMSE_DTR) можно найти всего в одну строчку, не обращаясь ко всем полученным результатам clf.cv_results_: после вызова\n",
    "    \n",
    "    clf = GridSearchCV(model_DTR, hyperparams, cv=5, scoring='neg_mean_squared_error')\n",
    "    clf.fit(...)\n",
    "    \n",
    "в clf.best_score_ хранится значение scoring (то есть 'neg_mean_squared_error' в данном случае) для лучшего набора гиперпараметров (clf.best_params_). \n",
    "</div>\n"
   ]
  },
  {
   "cell_type": "markdown",
   "metadata": {},
   "source": [
    "<b>Регрессия CatBoostRegressor</b>"
   ]
  },
  {
   "cell_type": "code",
   "execution_count": 20,
   "metadata": {},
   "outputs": [
    {
     "name": "stdout",
     "output_type": "stream",
     "text": [
      "{'learning_rate': 0.5, 'random_state': 12345, 'verbose': False}\n",
      "1607.880057 for {'learning_rate': 0.1, 'random_state': 12345, 'verbose': False}\n",
      "1575.455416 for {'learning_rate': 0.5, 'random_state': 12345, 'verbose': False}\n",
      "1602.021789 for {'learning_rate': 0.8, 'random_state': 12345, 'verbose': False}\n",
      "\n",
      "RMSE CatBoostRegressor-  1575.4554161270119 , time  2638.246\n",
      "CPU times: user 24min 21s, sys: 3min 33s, total: 27min 55s\n",
      "Wall time: 43min 58s\n"
     ]
    }
   ],
   "source": [
    "%%time\n",
    "\n",
    "start_time = time.time()\n",
    "model_CBR = CatBoostRegressor() \n",
    "hyperparams = [{'learning_rate':[0.1, 0.5, 0.8], 'random_state':[12345], 'verbose':[False]}]\n",
    "\n",
    "clf = GridSearchCV(model_CBR, hyperparams, cv=5, scoring='neg_mean_squared_error')\n",
    "clf.fit(oe_features_train, target_train)\n",
    "print(clf.best_params_)\n",
    "means = clf.cv_results_['mean_test_score']\n",
    "stds = clf.cv_results_['std_test_score']\n",
    "for mean, std, params in zip(means, stds, clf.cv_results_['params']):\n",
    "    print(\"%0.6f for %r\"% ((mean*-1)** 0.5, params))\n",
    "print()\n",
    "\n",
    "RMSE_CBR = (max(means)*-1) ** 0.5\n",
    "stop_time = time.time()\n",
    "time_CBR = round(stop_time - start_time,3)\n",
    "print('RMSE CatBoostRegressor- ', RMSE_CBR, ', time ', time_CBR)"
   ]
  },
  {
   "cell_type": "markdown",
   "metadata": {},
   "source": [
    "<div class=\"alert alert-block alert-success\">\n",
    "<b>Комментарий ревьюера:</b> \n",
    "Моделям CatBoostRegressor и LGBMRegressor можно передавать список категориальных признаков. Также для данных моделей категориальные признаки можно не кодировать, а использовать внутреннее кодирование моделей. Как это отразится на качестве? Можно поэкспериментировать :) \n",
    "</div>"
   ]
  },
  {
   "cell_type": "markdown",
   "metadata": {},
   "source": [
    "<b>Регрессия LGBMRegressor</b>"
   ]
  },
  {
   "cell_type": "code",
   "execution_count": 21,
   "metadata": {},
   "outputs": [
    {
     "name": "stdout",
     "output_type": "stream",
     "text": [
      "{'learning_rate': 0.3, 'num_leaves': 200, 'random_state': 12345}\n",
      "1692.908075 for {'learning_rate': 0.1, 'num_leaves': 31, 'random_state': 12345}\n",
      "1609.295960 for {'learning_rate': 0.1, 'num_leaves': 100, 'random_state': 12345}\n",
      "1578.101831 for {'learning_rate': 0.1, 'num_leaves': 200, 'random_state': 12345}\n",
      "1633.015982 for {'learning_rate': 0.3, 'num_leaves': 31, 'random_state': 12345}\n",
      "1579.169671 for {'learning_rate': 0.3, 'num_leaves': 100, 'random_state': 12345}\n",
      "1567.287253 for {'learning_rate': 0.3, 'num_leaves': 200, 'random_state': 12345}\n",
      "1632.943193 for {'learning_rate': 0.5, 'num_leaves': 31, 'random_state': 12345}\n",
      "1599.726978 for {'learning_rate': 0.5, 'num_leaves': 100, 'random_state': 12345}\n",
      "1600.543775 for {'learning_rate': 0.5, 'num_leaves': 200, 'random_state': 12345}\n",
      "\n",
      "RMSE LGBMRegressor-  1567.287252900132 , time  758.374\n",
      "CPU times: user 10min 27s, sys: 4.08 s, total: 10min 31s\n",
      "Wall time: 12min 38s\n"
     ]
    }
   ],
   "source": [
    "%%time\n",
    "\n",
    "start_time = time.time()\n",
    "model_LGBM = LGBMRegressor() \n",
    "hyperparams = [{'num_leaves':[31, 100, 200], 'learning_rate':[0.1, 0.3, 0.5], 'random_state':[12345]}]\n",
    "\n",
    "clf = GridSearchCV(model_LGBM, hyperparams, cv=5, scoring='neg_mean_squared_error')\n",
    "clf.fit(oe_features_train, target_train)\n",
    "print(clf.best_params_)\n",
    "means = clf.cv_results_['mean_test_score']\n",
    "stds = clf.cv_results_['std_test_score']\n",
    "for mean, std, params in zip(means, stds, clf.cv_results_['params']):\n",
    "    print(\"%0.6f for %r\"% ((mean*-1)** 0.5, params))\n",
    "print()\n",
    "\n",
    "RMSE_LGBM = (max(means)*-1) ** 0.5\n",
    "stop_time = time.time()\n",
    "time_LGBM = round(stop_time - start_time,3)\n",
    "print('RMSE LGBMRegressor- ', RMSE_LGBM, ', time ', time_LGBM)"
   ]
  },
  {
   "cell_type": "markdown",
   "metadata": {},
   "source": [
    "<div class=\"alert alert-block alert-warning\">\n",
    "<b>Комментарий ревьюера v2:</b> \n",
    "    \n",
    "~~Здесь тоже надо задать cv=5.~~\n",
    "</div>\n"
   ]
  },
  {
   "cell_type": "markdown",
   "metadata": {},
   "source": [
    "<div class=\"alert alert-block alert-info\">\n",
    "<b>Комментарий студента v2:</b> \n",
    "+\n",
    "</div>"
   ]
  },
  {
   "cell_type": "markdown",
   "metadata": {},
   "source": [
    "### Вывод"
   ]
  },
  {
   "cell_type": "markdown",
   "metadata": {},
   "source": [
    "Получилось зафикисровать лучшие параметры обучения. Впереди проверка на тестовой выборке с лучшими гиперпараметрами"
   ]
  },
  {
   "cell_type": "markdown",
   "metadata": {},
   "source": [
    "<div class=\"alert alert-block alert-success\">\n",
    "<b>Комментарий ревьюера:</b> \n",
    "Прекрасно, переходим к следующему шагу.\n",
    "</div>"
   ]
  },
  {
   "cell_type": "markdown",
   "metadata": {},
   "source": [
    "## Анализ моделей"
   ]
  },
  {
   "cell_type": "code",
   "execution_count": 22,
   "metadata": {},
   "outputs": [
    {
     "name": "stdout",
     "output_type": "stream",
     "text": [
      "CPU times: user 17.6 s, sys: 11 s, total: 28.6 s\n",
      "Wall time: 42 s\n"
     ]
    }
   ],
   "source": [
    "%%time\n",
    "\n",
    "start_time = time.time()\n",
    "model = LinearRegression()\n",
    "model.fit(ohe_features_train, target_train)\n",
    "stop_time = time.time()\n",
    "time_LR_train = round(stop_time - start_time,3)"
   ]
  },
  {
   "cell_type": "code",
   "execution_count": 23,
   "metadata": {},
   "outputs": [
    {
     "name": "stdout",
     "output_type": "stream",
     "text": [
      "RMSE LinearRegression  2545.099329787855 , time  0.227\n",
      "CPU times: user 102 ms, sys: 154 ms, total: 256 ms\n",
      "Wall time: 288 ms\n"
     ]
    }
   ],
   "source": [
    "%%time\n",
    "\n",
    "start_time = time.time()\n",
    "predict = model.predict(ohe_features_test)\n",
    "RMSE_LR_test = mean_squared_error(target_test, predict) ** 0.5\n",
    "stop_time = time.time()\n",
    "time_LR_test = round(stop_time - start_time,3)\n",
    "print('RMSE LinearRegression ', RMSE_LR_test, ', time ', time_LR_test)"
   ]
  },
  {
   "cell_type": "code",
   "execution_count": 24,
   "metadata": {},
   "outputs": [
    {
     "name": "stdout",
     "output_type": "stream",
     "text": [
      "CPU times: user 744 ms, sys: 3.67 ms, total: 748 ms\n",
      "Wall time: 3.4 s\n"
     ]
    }
   ],
   "source": [
    "%%time\n",
    "\n",
    "start_time = time.time()\n",
    "model = DecisionTreeRegressor(criterion='mse', max_depth=14,  random_state=12345) \n",
    "model.fit(oe_features_train, target_train)\n",
    "stop_time = time.time()\n",
    "time_DRT_train = round(stop_time - start_time,3)"
   ]
  },
  {
   "cell_type": "markdown",
   "metadata": {},
   "source": [
    "<div class=\"alert alert-block alert-success\">\n",
    "<b>Комментарий ревьюера:</b> \n",
    "Чтобы вручную не переписывать гиперпараметры лучших моделей можно использовать\n",
    "    \n",
    "    model=clf.best_estimator_\n",
    "    \n",
    "где clf – из раздела «Регрессия DecisionTreeRegressor».\n",
    "</div>"
   ]
  },
  {
   "cell_type": "code",
   "execution_count": 25,
   "metadata": {},
   "outputs": [
    {
     "name": "stdout",
     "output_type": "stream",
     "text": [
      "RMSE DecisionTreeRegressor  1836.5201192742218 , time  0.016\n",
      "CPU times: user 13.9 ms, sys: 3.57 ms, total: 17.5 ms\n",
      "Wall time: 15.9 ms\n"
     ]
    }
   ],
   "source": [
    "%%time\n",
    "\n",
    "start_time = time.time()\n",
    "\n",
    "predict = model.predict(oe_features_test)\n",
    "RMSE_DTR_test = mean_squared_error(target_test, predict) ** 0.5\n",
    "stop_time = time.time()\n",
    "time_DTR_test= round(stop_time - start_time,3)\n",
    "print('RMSE DecisionTreeRegressor ', RMSE_DTR_test, ', time ', time_DTR_test)"
   ]
  },
  {
   "cell_type": "code",
   "execution_count": 26,
   "metadata": {},
   "outputs": [
    {
     "name": "stdout",
     "output_type": "stream",
     "text": [
      "CPU times: user 1min 50s, sys: 19.6 s, total: 2min 10s\n",
      "Wall time: 3min 51s\n"
     ]
    }
   ],
   "source": [
    "%%time\n",
    "\n",
    "start_time = time.time()\n",
    "model = CatBoostRegressor(learning_rate=0.5, random_state=12345, verbose=False) \n",
    "model.fit(oe_features_train, target_train)\n",
    "stop_time = round(stop_time - start_time,3)\n",
    "time_CBR_train = time.time() - start_time"
   ]
  },
  {
   "cell_type": "code",
   "execution_count": 27,
   "metadata": {},
   "outputs": [
    {
     "name": "stdout",
     "output_type": "stream",
     "text": [
      "RMSE CatBoostRegressor  1555.1741647041574 , time  0.302\n",
      "CPU times: user 109 ms, sys: 28.7 ms, total: 137 ms\n",
      "Wall time: 303 ms\n"
     ]
    }
   ],
   "source": [
    "%%time\n",
    "\n",
    "start_time = time.time()\n",
    "predict = model.predict(oe_features_test)\n",
    "RMSE_CBR_test = mean_squared_error(target_test, predict) ** 0.5\n",
    "stop_time = time.time()\n",
    "time_CBR_test= round(stop_time - start_time,3)\n",
    "print('RMSE CatBoostRegressor ', RMSE_CBR_test, ', time ', time_CBR_test)"
   ]
  },
  {
   "cell_type": "code",
   "execution_count": 28,
   "metadata": {},
   "outputs": [
    {
     "name": "stdout",
     "output_type": "stream",
     "text": [
      "CPU times: user 16 s, sys: 248 ms, total: 16.3 s\n",
      "Wall time: 21.9 s\n"
     ]
    }
   ],
   "source": [
    "%%time\n",
    "\n",
    "start_time = time.time()\n",
    "model = LGBMRegressor(learning_rate=0.3, num_leaves=200, random_state=19072020)\n",
    "model.fit(oe_features_train, target_train)\n",
    "stop_time = round(stop_time - start_time,3)\n",
    "time_LGBM_train = time.time() - start_time"
   ]
  },
  {
   "cell_type": "code",
   "execution_count": 29,
   "metadata": {},
   "outputs": [
    {
     "name": "stdout",
     "output_type": "stream",
     "text": [
      "RMSE LGBMRegressor  1542.512677979484 , time  0.897\n",
      "CPU times: user 639 ms, sys: 0 ns, total: 639 ms\n",
      "Wall time: 898 ms\n"
     ]
    }
   ],
   "source": [
    "%%time\n",
    "\n",
    "start_time = time.time()\n",
    "target_predict = model.predict(oe_features_test)\n",
    "RMSE_LGBM_test = mean_squared_error(target_test, target_predict) ** 0.5\n",
    "stop_time = time.time()\n",
    "time_LGBM_test= round(stop_time - start_time,3)\n",
    "print('RMSE LGBMRegressor ', RMSE_LGBM_test, ', time ', time_LGBM_test)"
   ]
  },
  {
   "cell_type": "markdown",
   "metadata": {},
   "source": [
    "<div class=\"alert alert-block alert-success\">\n",
    "<b>Комментарий ревьюера:</b> \n",
    "Время обучения и предсказания вычисляются корректно.\n",
    "</div>\n",
    "\n",
    "<div class=\"alert alert-block alert-warning\">\n",
    "<b>Комментарий ревьюера:</b> \n",
    "    \n",
    "~~Время обучения и предсказания лучше сохранять в отдельные переменные, чтобы использовать их ниже для внесения в таблицу. Для этого можно использовать time.time().~~\n",
    "    \n",
    "    \n",
    "</div>"
   ]
  },
  {
   "cell_type": "markdown",
   "metadata": {},
   "source": [
    "<div class=\"alert alert-block alert-info\">\n",
    "<b>Комментарий студента:</b> \n",
    " \n",
    "  спасибо за наводку, а то я в ручную мучалась :)\n",
    "    \n",
    "</div>"
   ]
  },
  {
   "cell_type": "markdown",
   "metadata": {},
   "source": [
    "<b>Рейтинг моделей:</b>"
   ]
  },
  {
   "cell_type": "code",
   "execution_count": 30,
   "metadata": {},
   "outputs": [
    {
     "data": {
      "text/html": [
       "<div>\n",
       "<style scoped>\n",
       "    .dataframe tbody tr th:only-of-type {\n",
       "        vertical-align: middle;\n",
       "    }\n",
       "\n",
       "    .dataframe tbody tr th {\n",
       "        vertical-align: top;\n",
       "    }\n",
       "\n",
       "    .dataframe thead th {\n",
       "        text-align: right;\n",
       "    }\n",
       "</style>\n",
       "<table border=\"1\" class=\"dataframe\">\n",
       "  <thead>\n",
       "    <tr style=\"text-align: right;\">\n",
       "      <th></th>\n",
       "      <th>RMSE на обучающей выборке, евро</th>\n",
       "      <th>Время подбора гиперпараметров, сек</th>\n",
       "      <th>RMSE на тестовой выборке, евро</th>\n",
       "      <th>Время обучения модели, сек</th>\n",
       "      <th>Время предсказания модели, сек</th>\n",
       "      <th>Рейтинг RMSE</th>\n",
       "      <th>Рейтинг времени обучения</th>\n",
       "      <th>Рейтинг времени предсказания</th>\n",
       "      <th>Итоговый рейтинг</th>\n",
       "    </tr>\n",
       "  </thead>\n",
       "  <tbody>\n",
       "    <tr>\n",
       "      <td>LinearRegression</td>\n",
       "      <td>2562.983952</td>\n",
       "      <td>88.214</td>\n",
       "      <td>2545.099330</td>\n",
       "      <td>41.993000</td>\n",
       "      <td>0.227</td>\n",
       "      <td>0.611509</td>\n",
       "      <td>0.080966</td>\n",
       "      <td>0.070485</td>\n",
       "      <td>0.762959</td>\n",
       "    </tr>\n",
       "    <tr>\n",
       "      <td>DecisionTreeRegressor</td>\n",
       "      <td>1867.789890</td>\n",
       "      <td>320.558</td>\n",
       "      <td>1836.520119</td>\n",
       "      <td>3.400000</td>\n",
       "      <td>0.016</td>\n",
       "      <td>0.839113</td>\n",
       "      <td>1.000000</td>\n",
       "      <td>1.000000</td>\n",
       "      <td>2.839113</td>\n",
       "    </tr>\n",
       "    <tr>\n",
       "      <td>CatBoostRegressor</td>\n",
       "      <td>1575.455416</td>\n",
       "      <td>2638.246</td>\n",
       "      <td>1555.174165</td>\n",
       "      <td>231.404923</td>\n",
       "      <td>0.302</td>\n",
       "      <td>0.994815</td>\n",
       "      <td>0.014693</td>\n",
       "      <td>0.052980</td>\n",
       "      <td>1.062488</td>\n",
       "    </tr>\n",
       "    <tr>\n",
       "      <td>LGBMRegressor</td>\n",
       "      <td>1567.287253</td>\n",
       "      <td>758.374</td>\n",
       "      <td>1542.512678</td>\n",
       "      <td>21.890313</td>\n",
       "      <td>0.897</td>\n",
       "      <td>1.000000</td>\n",
       "      <td>0.155320</td>\n",
       "      <td>0.017837</td>\n",
       "      <td>1.173157</td>\n",
       "    </tr>\n",
       "  </tbody>\n",
       "</table>\n",
       "</div>"
      ],
      "text/plain": [
       "                       RMSE на обучающей выборке, евро  \\\n",
       "LinearRegression                           2562.983952   \n",
       "DecisionTreeRegressor                      1867.789890   \n",
       "CatBoostRegressor                          1575.455416   \n",
       "LGBMRegressor                              1567.287253   \n",
       "\n",
       "                       Время подбора гиперпараметров, сек  \\\n",
       "LinearRegression                                   88.214   \n",
       "DecisionTreeRegressor                             320.558   \n",
       "CatBoostRegressor                                2638.246   \n",
       "LGBMRegressor                                     758.374   \n",
       "\n",
       "                       RMSE на тестовой выборке, евро  \\\n",
       "LinearRegression                          2545.099330   \n",
       "DecisionTreeRegressor                     1836.520119   \n",
       "CatBoostRegressor                         1555.174165   \n",
       "LGBMRegressor                             1542.512678   \n",
       "\n",
       "                       Время обучения модели, сек  \\\n",
       "LinearRegression                        41.993000   \n",
       "DecisionTreeRegressor                    3.400000   \n",
       "CatBoostRegressor                      231.404923   \n",
       "LGBMRegressor                           21.890313   \n",
       "\n",
       "                       Время предсказания модели, сек  Рейтинг RMSE  \\\n",
       "LinearRegression                                0.227      0.611509   \n",
       "DecisionTreeRegressor                           0.016      0.839113   \n",
       "CatBoostRegressor                               0.302      0.994815   \n",
       "LGBMRegressor                                   0.897      1.000000   \n",
       "\n",
       "                       Рейтинг времени обучения  Рейтинг времени предсказания  \\\n",
       "LinearRegression                       0.080966                      0.070485   \n",
       "DecisionTreeRegressor                  1.000000                      1.000000   \n",
       "CatBoostRegressor                      0.014693                      0.052980   \n",
       "LGBMRegressor                          0.155320                      0.017837   \n",
       "\n",
       "                       Итоговый рейтинг  \n",
       "LinearRegression               0.762959  \n",
       "DecisionTreeRegressor          2.839113  \n",
       "CatBoostRegressor              1.062488  \n",
       "LGBMRegressor                  1.173157  "
      ]
     },
     "metadata": {},
     "output_type": "display_data"
    }
   ],
   "source": [
    "index = ['LinearRegression', 'DecisionTreeRegressor', 'CatBoostRegressor', 'LGBMRegressor']\n",
    "\n",
    "data = {'RMSE на обучающей выборке, евро':[RMSE_LR, RMSE_DTR, RMSE_CBR, RMSE_LGBM],\n",
    "        'Время подбора гиперпараметров, сек':[time_LR, time_DTR, time_CBR, time_LGBM],\n",
    "        'RMSE на тестовой выборке, евро':[RMSE_LR_test, RMSE_DTR_test, RMSE_CBR_test, RMSE_LGBM_test],\n",
    "        'Время обучения модели, сек':[time_LR_train, time_DRT_train, time_CBR_train, time_LGBM_train],\n",
    "        'Время предсказания модели, сек':[time_LR_test, time_DTR_test, time_CBR_test, time_LGBM_test]}\n",
    "\n",
    "stat = pd.DataFrame(data=data, index=index)\n",
    "\n",
    "for i, r in stat.iterrows():\n",
    "    stat.loc[i,'Рейтинг RMSE'] = stat['RMSE на обучающей выборке, евро'].min()/r['RMSE на обучающей выборке, евро']\n",
    "    stat.loc[i,'Рейтинг времени обучения'] = stat['Время обучения модели, сек'].min() / r['Время обучения модели, сек']\n",
    "    stat.loc[i,'Рейтинг времени предсказания'] = stat['Время предсказания модели, сек'].min() / r['Время предсказания модели, сек']\n",
    "    stat.loc[i,'Итоговый рейтинг'] = stat.loc[i,'Рейтинг RMSE'] + stat.loc[i,'Рейтинг времени обучения'] + stat.loc[i,'Рейтинг времени предсказания']\n",
    "\n",
    "display(stat)"
   ]
  },
  {
   "cell_type": "markdown",
   "metadata": {},
   "source": [
    "<div class=\"alert alert-block alert-success\">\n",
    "<b>Комментарий ревьюера:</b> \n",
    "Таблица замечательная! \n",
    "    \n",
    "~~Вместо «Время обучения» ты имеешь в виду «Время подбора гиперпараметров»?~~\n",
    "    \n",
    "</div>"
   ]
  },
  {
   "cell_type": "markdown",
   "metadata": {},
   "source": [
    "<div class=\"alert alert-block alert-info\">\n",
    "<b>Комментарий студента:</b> \n",
    " \n",
    "  да наверное лучше так написать, а то получается два одинаковых предназначения столбцов. Исправила :)\n",
    "    \n",
    "</div>"
   ]
  },
  {
   "cell_type": "markdown",
   "metadata": {},
   "source": [
    "\n",
    "<div class=\"alert alert-block alert-success\">\n",
    "<b>Комментарий ревьюера v2:</b>    \n",
    "    \n",
    "~~Поясни, почему в таблице время обучения модели решающего дерева равно нулю?~~\n",
    "</div>"
   ]
  },
  {
   "cell_type": "markdown",
   "metadata": {},
   "source": [
    "<div class=\"alert alert-block alert-info\">\n",
    "<b>Комментарий студента v2:</b> \n",
    " \n",
    "   подсчет был не верно прописан. Исправила\n",
    "    \n",
    "</div>"
   ]
  },
  {
   "cell_type": "markdown",
   "metadata": {},
   "source": [
    "### Вывод"
   ]
  },
  {
   "cell_type": "markdown",
   "metadata": {},
   "source": [
    "Заказчику важны:\n",
    "\n",
    "- качество предсказания;\n",
    "- скорость предсказания;\n",
    "- время обучения.\n",
    "\n",
    "Лучшей моделью по трем параметрам качество, скорость обучения и скорость предсказания можно считать DecisionTreeRegressor, т.к у этой модели все три показателя находятся в пределах среднего значения. Т.е стабильно держит среднее качество, скорость и время. Сочетания скорости и точности на подготовленных данных выводит его в лидеры рейтинга. \n",
    "\n",
    "Если рассматривать только оценивание точности, то в лидеры выходит LGBMRegressor. Следом за ним идет CatBoostRegressor, DecisionTreeRegressor на третьем месте.\n",
    "\n",
    "Лучше всего время обучения у LinearRegression"
   ]
  },
  {
   "cell_type": "markdown",
   "metadata": {},
   "source": [
    "<div class=\"alert alert-block alert-success\">\n",
    "<b>Комментарий ревьюера:</b> \n",
    "Ок, хорошо.    \n",
    "    \n",
    "~~Модель LGBMRegressor в лидерах не только по значению RMSE, но и по времени предсказания.~~\n",
    "</div>"
   ]
  },
  {
   "cell_type": "markdown",
   "metadata": {},
   "source": [
    "<div class=\"alert alert-block alert-warning\">\n",
    "<b>Комментарий ревьюера v3:</b>    \n",
    "Выводы стоило обновить.\n",
    "</div>\n"
   ]
  },
  {
   "cell_type": "markdown",
   "metadata": {},
   "source": [
    "## Чек-лист проверки"
   ]
  },
  {
   "cell_type": "markdown",
   "metadata": {},
   "source": [
    "Поставьте 'x' в выполненных пунктах. Далее нажмите Shift+Enter."
   ]
  },
  {
   "cell_type": "markdown",
   "metadata": {},
   "source": [
    "<div style=\"border:solid green 2px; padding: 20px\">\n",
    "Наталья, ты провела очень качественное исследование, молодец! Предобработка данных выполнена безупречно, доработать нужно лишь раздел с обучением моделей:\n",
    "    \n",
    "- провести OHE-кодирование категориальных признаков для модели линейной регрессии;\n",
    "- исправить желтые замечания (их должно быть не больше двух)."
   ]
  },
  {
   "cell_type": "markdown",
   "metadata": {},
   "source": [
    "<div style=\"border:solid green 2px; padding: 20px\">\n",
    "Наталья, спасибо! Осталось исправить одно замечание насчет выбора кодирования для модели решающего дерева."
   ]
  },
  {
   "cell_type": "markdown",
   "metadata": {},
   "source": [
    "<div style=\"border:solid green 2px; padding: 20px\">\n",
    "Наталья, отличная работа! 👍"
   ]
  },
  {
   "cell_type": "markdown",
   "metadata": {},
   "source": [
    "- [x]  Jupyter Notebook открыт\n",
    "- [ ]  Весь код выполняется без ошибок\n",
    "- [ ]  Ячейки с кодом расположены в порядке исполнения\n",
    "- [ ]  Выполнена загрузка и подготовка данных\n",
    "- [ ]  Выполнено обучение моделей\n",
    "- [ ]  Есть анализ скорости работы и качества моделей"
   ]
  }
 ],
 "metadata": {
  "ExecuteTimeLog": [
   {
    "duration": 162,
    "start_time": "2021-08-03T16:31:35.179Z"
   },
   {
    "duration": 1166,
    "start_time": "2021-08-03T16:31:44.688Z"
   },
   {
    "duration": 1018,
    "start_time": "2021-08-03T16:31:45.856Z"
   },
   {
    "duration": 135,
    "start_time": "2021-08-03T16:31:46.876Z"
   },
   {
    "duration": 3,
    "start_time": "2021-08-03T16:31:47.012Z"
   },
   {
    "duration": 119,
    "start_time": "2021-08-03T16:31:47.017Z"
   },
   {
    "duration": 87,
    "start_time": "2021-08-03T16:31:47.138Z"
   },
   {
    "duration": 190,
    "start_time": "2021-08-03T16:31:47.227Z"
   },
   {
    "duration": 457,
    "start_time": "2021-08-03T16:31:47.419Z"
   },
   {
    "duration": 385,
    "start_time": "2021-08-03T16:31:47.878Z"
   },
   {
    "duration": 166,
    "start_time": "2021-08-03T16:31:48.264Z"
   },
   {
    "duration": 526,
    "start_time": "2021-08-03T16:31:48.431Z"
   },
   {
    "duration": 456,
    "start_time": "2021-08-03T16:31:48.958Z"
   },
   {
    "duration": 490,
    "start_time": "2021-08-03T16:31:49.416Z"
   },
   {
    "duration": 77,
    "start_time": "2021-08-03T16:31:49.908Z"
   },
   {
    "duration": 997,
    "start_time": "2021-08-03T16:31:49.987Z"
   },
   {
    "duration": 22,
    "start_time": "2021-08-03T16:31:50.986Z"
   },
   {
    "duration": 881,
    "start_time": "2021-08-03T16:31:51.010Z"
   },
   {
    "duration": 88219,
    "start_time": "2021-08-03T16:31:51.893Z"
   },
   {
    "duration": 320569,
    "start_time": "2021-08-03T16:33:20.187Z"
   },
   {
    "duration": 2638251,
    "start_time": "2021-08-03T16:38:40.758Z"
   },
   {
    "duration": 758380,
    "start_time": "2021-08-03T17:22:39.011Z"
   },
   {
    "duration": 41998,
    "start_time": "2021-08-03T17:35:17.393Z"
   },
   {
    "duration": 294,
    "start_time": "2021-08-03T17:35:59.394Z"
   },
   {
    "duration": 3406,
    "start_time": "2021-08-03T17:35:59.691Z"
   },
   {
    "duration": 100,
    "start_time": "2021-08-03T17:36:03.186Z"
   },
   {
    "duration": 231496,
    "start_time": "2021-08-03T17:36:03.289Z"
   },
   {
    "duration": 308,
    "start_time": "2021-08-03T17:39:54.787Z"
   },
   {
    "duration": 21894,
    "start_time": "2021-08-03T17:39:55.098Z"
   },
   {
    "duration": 902,
    "start_time": "2021-08-03T17:40:16.995Z"
   },
   {
    "duration": 195,
    "start_time": "2021-08-03T17:40:17.899Z"
   }
  ],
  "kernelspec": {
   "display_name": "Python 3",
   "language": "python",
   "name": "python3"
  },
  "language_info": {
   "codemirror_mode": {
    "name": "ipython",
    "version": 3
   },
   "file_extension": ".py",
   "mimetype": "text/x-python",
   "name": "python",
   "nbconvert_exporter": "python",
   "pygments_lexer": "ipython3",
   "version": "3.7.8"
  },
  "toc": {
   "base_numbering": 1,
   "nav_menu": {},
   "number_sections": true,
   "sideBar": true,
   "skip_h1_title": true,
   "title_cell": "Table of Contents",
   "title_sidebar": "Contents",
   "toc_cell": false,
   "toc_position": {},
   "toc_section_display": true,
   "toc_window_display": false
  }
 },
 "nbformat": 4,
 "nbformat_minor": 2
}
