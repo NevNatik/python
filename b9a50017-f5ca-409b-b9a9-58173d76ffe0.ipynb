{
 "cells": [
  {
   "cell_type": "code",
   "execution_count": 2,
   "metadata": {
    "tags": [
     "f4eaa450-4b57-4b82-ab29-f851693d1019"
    ]
   },
   "outputs": [
    {
     "name": "stdout",
     "output_type": "stream",
     "text": [
      "0.09710497146204988\n",
      "0.03799820052330194\n",
      "0.03739457042246319\n",
      "0.0691383052161032\n",
      "0.06838503884229585\n",
      "0.08883736500108452\n",
      "0.08717070004514271\n",
      "0.11045888545986349\n",
      "0.10039463987264441\n",
      "0.13044152529589892\n",
      "0.11377955697594033\n",
      "0.15609837347083289\n",
      "0.12636140902252635\n",
      "0.18726410225662715\n",
      "0.13865396254150975\n",
      "0.22653865115717697\n",
      "0.15078824491099008\n",
      "0.2718684444446634\n",
      "0.15956958126469545\n",
      "0.3236577763766011\n",
      "0.16214296985582188\n",
      "0.3784895029599671\n",
      "0.16457303855286742\n",
      "0.4329478992262382\n",
      "0.1637813536741587\n",
      "0.4884694629839482\n",
      "0.16073337685516098\n",
      "0.5419053618959475\n",
      "0.15688584718161946\n",
      "0.5909146321385756\n",
      "0.15359449607912878\n"
     ]
    },
    {
     "name": "stderr",
     "output_type": "stream",
     "text": [
      "UsageError: Line magic function `%%time` not found.\n"
     ]
    }
   ],
   "source": [
    "# Не удаляйте эту ячейку!\n",
    "\n",
    "import pandas as pd\n",
    "from sklearn.model_selection import train_test_split\n",
    "from sklearn.ensemble import RandomForestRegressor\n",
    "from sklearn.metrics import r2_score\n",
    "\n",
    "data = pd.read_csv('/datasets/flights_preprocessed.csv')\n",
    "\n",
    "target = data['Arrival Delay']\n",
    "features = data.drop(['Arrival Delay'] , axis=1)\n",
    "features_train, features_valid, target_train, target_valid = train_test_split(\n",
    "    features, target, test_size=0.25, random_state=12345)\n",
    "\n",
    "\n",
    "model = LinearRegression()\n",
    "model.fit(features_train, target_train)\n",
    "print(model.score(features_valid, target_valid))\n",
    "\n",
    "\n",
    "for depth in range(1, 16, 1):\n",
    "    model = RandomForestRegressor(n_estimators=60, max_depth=depth, random_state=12345)\n",
    "    model.fit(features_train, target_train)\n",
    "    print(model.score(features_train, target_train))\n",
    "    print(model.score(features_valid, target_valid)) \n",
    "\n",
    "%%time\n",
    "\n",
    "model = RandomForestRegressor(n_estimators=100, random_state=12345)\n",
    "model.fit(features_train, target_train)"
   ]
  },
  {
   "cell_type": "code",
   "execution_count": null,
   "metadata": {},
   "outputs": [],
   "source": []
  }
 ],
 "metadata": {
  "kernelspec": {
   "display_name": "Python 3",
   "language": "python",
   "name": "python3"
  },
  "language_info": {
   "codemirror_mode": {
    "name": "ipython",
    "version": 3
   },
   "file_extension": ".py",
   "mimetype": "text/x-python",
   "name": "python",
   "nbconvert_exporter": "python",
   "pygments_lexer": "ipython3",
   "version": "3.7.8"
  },
  "toc": {
   "base_numbering": 1,
   "nav_menu": {},
   "number_sections": true,
   "sideBar": true,
   "skip_h1_title": true,
   "title_cell": "Table of Contents",
   "title_sidebar": "Contents",
   "toc_cell": false,
   "toc_position": {},
   "toc_section_display": true,
   "toc_window_display": false
  }
 },
 "nbformat": 4,
 "nbformat_minor": 2
}
