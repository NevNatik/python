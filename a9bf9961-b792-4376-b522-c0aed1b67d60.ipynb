{
 "cells": [
  {
   "cell_type": "markdown",
   "metadata": {},
   "source": [
    "<div class=\"alert alert-success\">\n",
    "<h2> Комментарий ревьюера 4</h2>\n",
    "\n",
    "Привет. Теперь обозначим, что это четвертая итерация. \n",
    "\n",
    "</div>"
   ]
  },
  {
   "cell_type": "markdown",
   "metadata": {},
   "source": [
    "<div class=\"alert alert-success\">\n",
    "<h2> Комментарий ревьюера 3</h2>\n",
    "\n",
    "Привет. Оформление комментариев по работе сохраняется. Только обозначим, что это третья итерация. \n",
    "\n",
    "</div>"
   ]
  },
  {
   "cell_type": "markdown",
   "metadata": {},
   "source": [
    "<div class=\"alert alert-success\">\n",
    "<h2> Комментарий ревьюера 2</h2>\n",
    "\n",
    "Привет еще раз. Спасибо, что доделала работу. Оформление комментариев по работе сохраняется. Только обозначим, что это вторая итерация. \n",
    "\n",
    "</div>"
   ]
  },
  {
   "cell_type": "markdown",
   "metadata": {},
   "source": [
    "<div class=\"alert alert-success\">\n",
    "<h2> Комментарий ревьюера</h2>\n",
    "\n",
    "Привет, Наталья! Спасибо, что прислала задание:) Поздравляю с первым сданным проектом. Меня зовут Слепцов Артем и я буду проверять твой проект) Ты проделала большую работу над проектом, однако его еще можно улучшить. Будет здорово, если ты, надеюсь, не против, если я буду на ты, будешь отвечать на комментарии и участвовать в диалоге. \n",
    "\n",
    "Мои комментарии обозначены пометкой **Комментарий ревьюера**. Далее в файле ты сможешь найти их в похожих ячейках (если фон комментария <font color=green>зелёный</font> - всё сделано правильно. Рекомендации укажу таким же цветом; <font color=orange>оранжевый</font> - некритичные замечания. Если таких замечаний меньше трех - проект может быть принят без их отработки; <font color=red>красный</font> - нужно переделать). Не удаляй эти комментарии и постарайся учесть их в ходе выполнения данного проекта. \n",
    "\n",
    "</div>"
   ]
  },
  {
   "cell_type": "markdown",
   "metadata": {},
   "source": [
    "## Исследование надёжности заёмщиков\n",
    "\n",
    "Заказчик — кредитный отдел банка. Нужно разобраться, влияет ли семейное положение и количество детей клиента на факт погашения кредита в срок. Входные данные от банка — статистика о платёжеспособности клиентов.\n",
    "\n",
    "Путь к файлу: /datasets/data.csv\n",
    "\n",
    "## Описание данных:\n",
    "\n",
    "- children — количество детей в семье\n",
    "- days_employed — общий трудовой стаж в днях\n",
    "- dob_years — возраст клиента в годах\n",
    "- education — уровень образования клиента\n",
    "- education_id — идентификатор уровня образования\n",
    "- family_status — семейное положение\n",
    "- family_status_id — идентификатор семейного положения\n",
    "- gender — пол клиента\n",
    "- income_type — тип занятости\n",
    "- debt — имел ли задолженность по возврату кредитов\n",
    "- total_income — ежемесячный доход\n",
    "- purpose — цель получения кредита\n",
    "\n",
    "Для того чтобы ответить на вопрос заказчика будет првоедена работа по следующим направления:\n",
    "- подключить необходимые библитеки дял работы\n",
    "- закрузить файл для работы с указанного пути хранения\n",
    "- провести преобработку данных (удаление пропущенных значений, проверить типы данных, проверка и удаление дубликатов, состаление лемма, составить категоризаию данных)\n",
    "- ответить на инетерсующиеся вопросы заказчика\n",
    "\n",
    "Результаты исследования будут учтены при построении модели **кредитного скоринга** — специальной системы, которая оценивает способность потенциального заёмщика вернуть кредит банку."
   ]
  },
  {
   "cell_type": "markdown",
   "metadata": {},
   "source": [
    "<div class=\"alert alert-warning\">\n",
    "<h2> Комментарий ревьюера</h2>\n",
    "\n",
    "Правильно, что есть краткое вступление в работу, описание того, что надо делать. В работе следует приводить краткий план того, что надо сделать(если этот план имеется), а также информацию о входных данных: какие столбцы есть в таблице, их названия и какую информацию они несут. Также название работы лучше отображать в отдельной ячейке и делать крупный шрифт (заголовок). Так работа выглядит презентабельно. Подробнее смотри [методичку](https://www.notion.so/35d9c2f32ffa42f3b17010737aedca4b) по оформлению проектов.\n",
    "\n",
    "</div>"
   ]
  },
  {
   "cell_type": "markdown",
   "metadata": {},
   "source": [
    "<div class=\"alert alert-success\">\n",
    "<h2> Комментарий ревьюера 2</h2>\n",
    "\n",
    "Вступление в работу очень важно. Так ты поясняешь то, чему она посвящена. Цель работы также хорошо бы вынести в отдельный блок вступления. Еще лучше будет, если ты сделаешь план работы с гиперссылками. Как это реализовать - смотри по [ссылке](https://stackoverflow.com/questions/49535664/how-to-hyperlink-in-a-jupyter-notebook/49717704).\n",
    "\n",
    "</div>"
   ]
  },
  {
   "cell_type": "markdown",
   "metadata": {},
   "source": [
    "### Шаг 1. Откройте файл с данными и изучите общую информацию. "
   ]
  },
  {
   "cell_type": "code",
   "execution_count": 1,
   "metadata": {},
   "outputs": [],
   "source": [
    "import pandas as pd\n",
    "from pymystem3 import Mystem\n",
    "import collections"
   ]
  },
  {
   "cell_type": "markdown",
   "metadata": {},
   "source": [
    "## Вывод"
   ]
  },
  {
   "cell_type": "markdown",
   "metadata": {},
   "source": [
    "Подключение библиотек для работы с файлом. Далее необходимо поключить файл для работы. \n",
    "\n",
    "Путь к файлу '/datasets/data.csv'\n"
   ]
  },
  {
   "cell_type": "code",
   "execution_count": 2,
   "metadata": {},
   "outputs": [
    {
     "name": "stdout",
     "output_type": "stream",
     "text": [
      "<class 'pandas.core.frame.DataFrame'>\n",
      "RangeIndex: 21525 entries, 0 to 21524\n",
      "Data columns (total 12 columns):\n",
      "children            21525 non-null int64\n",
      "days_employed       19351 non-null float64\n",
      "dob_years           21525 non-null int64\n",
      "education           21525 non-null object\n",
      "education_id        21525 non-null int64\n",
      "family_status       21525 non-null object\n",
      "family_status_id    21525 non-null int64\n",
      "gender              21525 non-null object\n",
      "income_type         21525 non-null object\n",
      "debt                21525 non-null int64\n",
      "total_income        19351 non-null float64\n",
      "purpose             21525 non-null object\n",
      "dtypes: float64(2), int64(5), object(5)\n",
      "memory usage: 2.0+ MB\n",
      "None\n",
      "================\n",
      "Вывод данных\n"
     ]
    },
    {
     "data": {
      "text/html": [
       "<div>\n",
       "<style scoped>\n",
       "    .dataframe tbody tr th:only-of-type {\n",
       "        vertical-align: middle;\n",
       "    }\n",
       "\n",
       "    .dataframe tbody tr th {\n",
       "        vertical-align: top;\n",
       "    }\n",
       "\n",
       "    .dataframe thead th {\n",
       "        text-align: right;\n",
       "    }\n",
       "</style>\n",
       "<table border=\"1\" class=\"dataframe\">\n",
       "  <thead>\n",
       "    <tr style=\"text-align: right;\">\n",
       "      <th></th>\n",
       "      <th>children</th>\n",
       "      <th>days_employed</th>\n",
       "      <th>dob_years</th>\n",
       "      <th>education</th>\n",
       "      <th>education_id</th>\n",
       "      <th>family_status</th>\n",
       "      <th>family_status_id</th>\n",
       "      <th>gender</th>\n",
       "      <th>income_type</th>\n",
       "      <th>debt</th>\n",
       "      <th>total_income</th>\n",
       "      <th>purpose</th>\n",
       "    </tr>\n",
       "  </thead>\n",
       "  <tbody>\n",
       "    <tr>\n",
       "      <td>0</td>\n",
       "      <td>1</td>\n",
       "      <td>-8437.673028</td>\n",
       "      <td>42</td>\n",
       "      <td>высшее</td>\n",
       "      <td>0</td>\n",
       "      <td>женат / замужем</td>\n",
       "      <td>0</td>\n",
       "      <td>F</td>\n",
       "      <td>сотрудник</td>\n",
       "      <td>0</td>\n",
       "      <td>253875.639453</td>\n",
       "      <td>покупка жилья</td>\n",
       "    </tr>\n",
       "    <tr>\n",
       "      <td>1</td>\n",
       "      <td>1</td>\n",
       "      <td>-4024.803754</td>\n",
       "      <td>36</td>\n",
       "      <td>среднее</td>\n",
       "      <td>1</td>\n",
       "      <td>женат / замужем</td>\n",
       "      <td>0</td>\n",
       "      <td>F</td>\n",
       "      <td>сотрудник</td>\n",
       "      <td>0</td>\n",
       "      <td>112080.014102</td>\n",
       "      <td>приобретение автомобиля</td>\n",
       "    </tr>\n",
       "    <tr>\n",
       "      <td>2</td>\n",
       "      <td>0</td>\n",
       "      <td>-5623.422610</td>\n",
       "      <td>33</td>\n",
       "      <td>Среднее</td>\n",
       "      <td>1</td>\n",
       "      <td>женат / замужем</td>\n",
       "      <td>0</td>\n",
       "      <td>M</td>\n",
       "      <td>сотрудник</td>\n",
       "      <td>0</td>\n",
       "      <td>145885.952297</td>\n",
       "      <td>покупка жилья</td>\n",
       "    </tr>\n",
       "    <tr>\n",
       "      <td>3</td>\n",
       "      <td>3</td>\n",
       "      <td>-4124.747207</td>\n",
       "      <td>32</td>\n",
       "      <td>среднее</td>\n",
       "      <td>1</td>\n",
       "      <td>женат / замужем</td>\n",
       "      <td>0</td>\n",
       "      <td>M</td>\n",
       "      <td>сотрудник</td>\n",
       "      <td>0</td>\n",
       "      <td>267628.550329</td>\n",
       "      <td>дополнительное образование</td>\n",
       "    </tr>\n",
       "    <tr>\n",
       "      <td>4</td>\n",
       "      <td>0</td>\n",
       "      <td>340266.072047</td>\n",
       "      <td>53</td>\n",
       "      <td>среднее</td>\n",
       "      <td>1</td>\n",
       "      <td>гражданский брак</td>\n",
       "      <td>1</td>\n",
       "      <td>F</td>\n",
       "      <td>пенсионер</td>\n",
       "      <td>0</td>\n",
       "      <td>158616.077870</td>\n",
       "      <td>сыграть свадьбу</td>\n",
       "    </tr>\n",
       "    <tr>\n",
       "      <td>5</td>\n",
       "      <td>0</td>\n",
       "      <td>-926.185831</td>\n",
       "      <td>27</td>\n",
       "      <td>высшее</td>\n",
       "      <td>0</td>\n",
       "      <td>гражданский брак</td>\n",
       "      <td>1</td>\n",
       "      <td>M</td>\n",
       "      <td>компаньон</td>\n",
       "      <td>0</td>\n",
       "      <td>255763.565419</td>\n",
       "      <td>покупка жилья</td>\n",
       "    </tr>\n",
       "    <tr>\n",
       "      <td>6</td>\n",
       "      <td>0</td>\n",
       "      <td>-2879.202052</td>\n",
       "      <td>43</td>\n",
       "      <td>высшее</td>\n",
       "      <td>0</td>\n",
       "      <td>женат / замужем</td>\n",
       "      <td>0</td>\n",
       "      <td>F</td>\n",
       "      <td>компаньон</td>\n",
       "      <td>0</td>\n",
       "      <td>240525.971920</td>\n",
       "      <td>операции с жильем</td>\n",
       "    </tr>\n",
       "    <tr>\n",
       "      <td>7</td>\n",
       "      <td>0</td>\n",
       "      <td>-152.779569</td>\n",
       "      <td>50</td>\n",
       "      <td>СРЕДНЕЕ</td>\n",
       "      <td>1</td>\n",
       "      <td>женат / замужем</td>\n",
       "      <td>0</td>\n",
       "      <td>M</td>\n",
       "      <td>сотрудник</td>\n",
       "      <td>0</td>\n",
       "      <td>135823.934197</td>\n",
       "      <td>образование</td>\n",
       "    </tr>\n",
       "    <tr>\n",
       "      <td>8</td>\n",
       "      <td>2</td>\n",
       "      <td>-6929.865299</td>\n",
       "      <td>35</td>\n",
       "      <td>ВЫСШЕЕ</td>\n",
       "      <td>0</td>\n",
       "      <td>гражданский брак</td>\n",
       "      <td>1</td>\n",
       "      <td>F</td>\n",
       "      <td>сотрудник</td>\n",
       "      <td>0</td>\n",
       "      <td>95856.832424</td>\n",
       "      <td>на проведение свадьбы</td>\n",
       "    </tr>\n",
       "    <tr>\n",
       "      <td>9</td>\n",
       "      <td>0</td>\n",
       "      <td>-2188.756445</td>\n",
       "      <td>41</td>\n",
       "      <td>среднее</td>\n",
       "      <td>1</td>\n",
       "      <td>женат / замужем</td>\n",
       "      <td>0</td>\n",
       "      <td>M</td>\n",
       "      <td>сотрудник</td>\n",
       "      <td>0</td>\n",
       "      <td>144425.938277</td>\n",
       "      <td>покупка жилья для семьи</td>\n",
       "    </tr>\n",
       "  </tbody>\n",
       "</table>\n",
       "</div>"
      ],
      "text/plain": [
       "   children  days_employed  dob_years education  education_id  \\\n",
       "0         1   -8437.673028         42    высшее             0   \n",
       "1         1   -4024.803754         36   среднее             1   \n",
       "2         0   -5623.422610         33   Среднее             1   \n",
       "3         3   -4124.747207         32   среднее             1   \n",
       "4         0  340266.072047         53   среднее             1   \n",
       "5         0    -926.185831         27    высшее             0   \n",
       "6         0   -2879.202052         43    высшее             0   \n",
       "7         0    -152.779569         50   СРЕДНЕЕ             1   \n",
       "8         2   -6929.865299         35    ВЫСШЕЕ             0   \n",
       "9         0   -2188.756445         41   среднее             1   \n",
       "\n",
       "      family_status  family_status_id gender income_type  debt   total_income  \\\n",
       "0   женат / замужем                 0      F   сотрудник     0  253875.639453   \n",
       "1   женат / замужем                 0      F   сотрудник     0  112080.014102   \n",
       "2   женат / замужем                 0      M   сотрудник     0  145885.952297   \n",
       "3   женат / замужем                 0      M   сотрудник     0  267628.550329   \n",
       "4  гражданский брак                 1      F   пенсионер     0  158616.077870   \n",
       "5  гражданский брак                 1      M   компаньон     0  255763.565419   \n",
       "6   женат / замужем                 0      F   компаньон     0  240525.971920   \n",
       "7   женат / замужем                 0      M   сотрудник     0  135823.934197   \n",
       "8  гражданский брак                 1      F   сотрудник     0   95856.832424   \n",
       "9   женат / замужем                 0      M   сотрудник     0  144425.938277   \n",
       "\n",
       "                      purpose  \n",
       "0               покупка жилья  \n",
       "1     приобретение автомобиля  \n",
       "2               покупка жилья  \n",
       "3  дополнительное образование  \n",
       "4             сыграть свадьбу  \n",
       "5               покупка жилья  \n",
       "6           операции с жильем  \n",
       "7                 образование  \n",
       "8       на проведение свадьбы  \n",
       "9     покупка жилья для семьи  "
      ]
     },
     "metadata": {},
     "output_type": "display_data"
    }
   ],
   "source": [
    "data_credit = pd.read_csv('/datasets/data.csv')\n",
    "\n",
    "print(data_credit.info())\n",
    "\n",
    "print('================')\n",
    "print('Вывод данных')\n",
    "display(data_credit.head(10))"
   ]
  },
  {
   "cell_type": "markdown",
   "metadata": {},
   "source": [
    "<div class=\"alert alert-warning\">\n",
    "<h2> Комментарий ревьюера 2</h2>\n",
    "\n",
    "Таблицы на печать выводи с помощью метода display. print переводит данные в строку, а нам этого не надо. \n",
    "\n",
    "</div>"
   ]
  },
  {
   "cell_type": "markdown",
   "metadata": {},
   "source": [
    "<div class=\"alert alert-success\">\n",
    "<h2> Комментарий ревьюера 3</h2>\n",
    "\n",
    "👍  \n",
    "\n",
    "</div>"
   ]
  },
  {
   "cell_type": "markdown",
   "metadata": {},
   "source": [
    "## Вывод"
   ]
  },
  {
   "cell_type": "markdown",
   "metadata": {},
   "source": [
    "12 столбцов и 21 525 записей. \n",
    "\n",
    "Нужно обратить внимание что количество значений в столбцах различается:\n",
    "- days_employed       19351 non-null float64\n",
    "- total_income        19351 non-null float64\n",
    "\n",
    "Значит есть пропущенные, не заполненные записи. Необходимо провести предобработку данных."
   ]
  },
  {
   "cell_type": "markdown",
   "metadata": {},
   "source": [
    "<div class=\"alert alert-warning\">\n",
    "<h2> Комментарий ревьюера </h2>\n",
    "\n",
    "У меня имеется несколько комментариев по данному шагу:\n",
    "- желательно выводить около 10 строчек таблицы. Меньше не рекомендуется, можно не увидеть структуру данных;\n",
    "- считывание данных и импорт необходимых библиотек лучше проводить в разных ячейках;\n",
    "- следует давать переменным осознанные имена. Таблица про клиентов - название надо бы выбрать соответствующее;\n",
    "- Подумай также о возможных причинах появления пропусков, а также о том, являются ли они случайными или нет.\n",
    "\n",
    "Первый взгляд на таблицу выполнен.\n",
    "\n",
    "</div>"
   ]
  },
  {
   "cell_type": "markdown",
   "metadata": {},
   "source": [
    "### Шаг 2. Предобработка данных"
   ]
  },
  {
   "cell_type": "markdown",
   "metadata": {},
   "source": [
    "### Обработка пропусков"
   ]
  },
  {
   "cell_type": "code",
   "execution_count": 3,
   "metadata": {},
   "outputs": [
    {
     "name": "stdout",
     "output_type": "stream",
     "text": [
      "Кол-во пропусков\n",
      "children               0\n",
      "days_employed       2174\n",
      "dob_years              0\n",
      "education              0\n",
      "education_id           0\n",
      "family_status          0\n",
      "family_status_id       0\n",
      "gender                 0\n",
      "income_type            0\n",
      "debt                   0\n",
      "total_income        2174\n",
      "purpose                0\n",
      "dtype: int64\n"
     ]
    }
   ],
   "source": [
    "print('Кол-во пропусков')\n",
    "print(data_credit.isnull().sum())"
   ]
  },
  {
   "cell_type": "markdown",
   "metadata": {},
   "source": [
    "## Вывод"
   ]
  },
  {
   "cell_type": "markdown",
   "metadata": {},
   "source": [
    "Выяснили кол-во пустых записей, проблема подтвердилась. \n",
    "В столбцах:\n",
    "'days_employed'  и 'total_income' имеются не заполненные данные. \n",
    "\n",
    "Заполенние пропущенных данных будет проводится по следующему алгоритму:\n",
    "- составим список с категориями \"Тип занятости\" (income_type) и \"Возраст клиента в годах\"(dob_years).\n",
    "- вычислим медиану ежемесячного дохода(total_income) исходя из типа занятости (income_type), полученый показатель запишем в пропуски в столбце total_income.\n",
    "- выичслим средний арифметический показтель стажа (days_employed ) исходя и возраста клиента (dob_years), полученный результат запишем в пропуски в столбе dob_years."
   ]
  },
  {
   "cell_type": "code",
   "execution_count": 4,
   "metadata": {},
   "outputs": [],
   "source": [
    "#Получим список имеющихся типы занятости\n",
    "income_type = data_credit['income_type'].unique()\n",
    "\n",
    "for i in income_type: #По каждому типу занятости\n",
    "    #вычислим медиану ежемесячный доход. \n",
    "    med_total = data_credit.loc[data_credit['income_type'] == i, 'total_income'].median()\n",
    "    \n",
    "    #Полученную сумму в медианах пропишем в пропусках в столбце 'total_income'\n",
    "    data_credit.loc[data_credit['income_type'] == i, 'total_income'] = data_credit.loc[data_credit['income_type'] == i, 'total_income'].fillna(med_total)"
   ]
  },
  {
   "cell_type": "markdown",
   "metadata": {},
   "source": [
    "## Вывод"
   ]
  },
  {
   "cell_type": "markdown",
   "metadata": {},
   "source": [
    "Вычислили медиану по всем типам занятости, провели запись в пропущенные записи.\n",
    "\n",
    "В таблице ещё есть пустоты и их надо тоже вычислить и заполнить."
   ]
  },
  {
   "cell_type": "code",
   "execution_count": 5,
   "metadata": {},
   "outputs": [],
   "source": [
    "#Получим список имеющихся возраст клиентов в годах\n",
    "dob_years = data_credit['dob_years'].unique()\n",
    "\n",
    "for y in dob_years: # По каждому возрасту\n",
    "    # вычислим среднеарифметический показатель стажа \n",
    "    mean_dob_years = data_credit.loc[data_credit['dob_years'] == y, 'days_employed'].mean()\n",
    "    \n",
    "    #Полученные среднеарифметические показатели стажа пропишем в пропусках в столбце 'days_employed'\n",
    "    data_credit.loc[data_credit['dob_years'] == y, 'days_employed'] = data_credit.loc[data_credit['dob_years'] == y, 'days_employed'].fillna(mean_dob_years)"
   ]
  },
  {
   "cell_type": "markdown",
   "metadata": {},
   "source": [
    "## Вывод"
   ]
  },
  {
   "cell_type": "markdown",
   "metadata": {},
   "source": [
    "Вычислили среднеарифметический показатель стажа по всем возрастам клиета банка, провели запись в пропущенные записи.\n",
    "\n",
    "Проверим результат и наличие пропущенных значений."
   ]
  },
  {
   "cell_type": "code",
   "execution_count": 6,
   "metadata": {},
   "outputs": [
    {
     "name": "stdout",
     "output_type": "stream",
     "text": [
      "Кол-во пропусков\n",
      "children            0\n",
      "days_employed       0\n",
      "dob_years           0\n",
      "education           0\n",
      "education_id        0\n",
      "family_status       0\n",
      "family_status_id    0\n",
      "gender              0\n",
      "income_type         0\n",
      "debt                0\n",
      "total_income        0\n",
      "purpose             0\n",
      "dtype: int64\n"
     ]
    }
   ],
   "source": [
    "print('Кол-во пропусков')\n",
    "print(data_credit.isnull().sum())"
   ]
  },
  {
   "cell_type": "markdown",
   "metadata": {},
   "source": [
    "## Вывод"
   ]
  },
  {
   "cell_type": "markdown",
   "metadata": {},
   "source": [
    "Обработка пропусков прошла успешно.\n"
   ]
  },
  {
   "cell_type": "markdown",
   "metadata": {},
   "source": [
    "<div class=\"alert alert-danger\">\n",
    "<h2> Комментарий ревьюера </h2>\n",
    "\n",
    "Обработать пропуски таким образом мы не можем. Данные у нас о клиентах, получивших крелиты. Лучше использовать заполнение пропусков на основе группировки данных по одному из параметров в нашей таблице. Подумай, какой параметр будет больше всего влиять на доход. От чего больше всего зависит доход? Проведи группировку по нему и на его основании заполни пропуски. \n",
    "\n",
    "</div>"
   ]
  },
  {
   "cell_type": "markdown",
   "metadata": {},
   "source": [
    "<div class=\"alert alert-success\">\n",
    "<h2> Комментарий ревьюера 2</h2>\n",
    "\n",
    "Пропуски заполнены. Конечно, тип занятости сильно влияет на получаемый доход. Здорово, что ты смогла реализовать такую обработку пропусков.  \n",
    "\n",
    "</div>"
   ]
  },
  {
   "cell_type": "markdown",
   "metadata": {},
   "source": [
    "### Замена типа данных"
   ]
  },
  {
   "cell_type": "code",
   "execution_count": 7,
   "metadata": {},
   "outputs": [
    {
     "name": "stdout",
     "output_type": "stream",
     "text": [
      "children              int64\n",
      "days_employed       float64\n",
      "dob_years             int64\n",
      "education            object\n",
      "education_id          int64\n",
      "family_status        object\n",
      "family_status_id      int64\n",
      "gender               object\n",
      "income_type          object\n",
      "debt                  int64\n",
      "total_income        float64\n",
      "purpose              object\n",
      "dtype: object\n",
      "===================\n",
      "Результат после замены типа:\n",
      "children             int64\n",
      "days_employed        int64\n",
      "dob_years            int64\n",
      "education           object\n",
      "education_id         int64\n",
      "family_status       object\n",
      "family_status_id     int64\n",
      "gender              object\n",
      "income_type         object\n",
      "debt                 int64\n",
      "total_income         int64\n",
      "purpose             object\n",
      "dtype: object\n"
     ]
    }
   ],
   "source": [
    "# список столбцов с указанием тип данных\n",
    "print(data_credit.dtypes) \n",
    "# заменяем тип float на int\n",
    "data_credit['days_employed']= data_credit['days_employed'].astype('int')\n",
    "data_credit['total_income']= data_credit['total_income'].astype('int')\n",
    "\n",
    "print('===================')\n",
    "print('Результат после замены типа:')\n",
    "print(data_credit.dtypes)"
   ]
  },
  {
   "cell_type": "markdown",
   "metadata": {},
   "source": [
    "Вывод"
   ]
  },
  {
   "cell_type": "markdown",
   "metadata": {},
   "source": [
    "Тип полей \"days_employed\" и \"total_income\" перевела в тип int, теперь будет точность в расчетах до целого числа.\n",
    "Использоала метод .astype() для того чтобы отображалось целое число."
   ]
  },
  {
   "cell_type": "markdown",
   "metadata": {},
   "source": [
    "<div class=\"alert alert-success\">\n",
    "<h2> Комментарий ревьюера </h2>\n",
    "\n",
    "Исходя из общей информации о таблице мы видим, что два столбца имеют вещественный тип данных, который и надо заменить на целочисленный. Эта замена произведена верно. Также хорошо бы освоить метод to_numeric() для будущих работ. \n",
    "\n",
    "</div>"
   ]
  },
  {
   "cell_type": "markdown",
   "metadata": {},
   "source": [
    "### Обработка дубликатов"
   ]
  },
  {
   "cell_type": "code",
   "execution_count": 8,
   "metadata": {},
   "outputs": [
    {
     "name": "stdout",
     "output_type": "stream",
     "text": [
      "Число дубликатов равна 71\n",
      "===================\n",
      "Проверка на отсутствие дубликатов после обработки\n",
      "Число дубликатов равна 0\n"
     ]
    }
   ],
   "source": [
    "#Все значения строковых типов перевела в нижний регистр\n",
    "data_credit['education']=data_credit['education'].str.lower() \n",
    "data_credit['family_status']=data_credit['family_status'].str.lower() \n",
    "data_credit['purpose']=data_credit['purpose'].str.lower() \n",
    "data_credit['gender']=data_credit['gender'].str.lower() \n",
    "data_credit['income_type']=data_credit['income_type'].str.lower() \n",
    "\n",
    "#Суммарного количества дубликатов и удаление дубликатов\n",
    "print('Число дубликатов равна', data_credit.duplicated().sum()) \n",
    "data_credit = data_credit.drop_duplicates().reset_index(drop=True)\n",
    "\n",
    "print('===================')\n",
    "print('Проверка на отсутствие дубликатов после обработки')\n",
    "print('Число дубликатов равна', data_credit.duplicated().sum())"
   ]
  },
  {
   "cell_type": "markdown",
   "metadata": {},
   "source": [
    "### Вывод"
   ]
  },
  {
   "cell_type": "markdown",
   "metadata": {},
   "source": [
    "Все значения строковых типов перевела в нижний регистр, для того чтобы вычислить точное кол-во дубликатов в таблице. Суммарного количества дубликатов в таблице data_credit равна 71 запись. \n",
    "Удаление дубликатов проводила методом drop_duplicates().reset_index(drop=True), т.е после удаления индексы таблицы переназначились занова\n",
    "После того как провели удаление дубликатов из таблицы, проверка показало 0 записей"
   ]
  },
  {
   "cell_type": "markdown",
   "metadata": {},
   "source": [
    "<div class=\"alert alert-success\">\n",
    "<h2> Комментарий ревьюера </h2>\n",
    "\n",
    "Дубликаты вызывают смещение финальных результатов, поэтому их и надо удалять. Конечно, в данных нет уникального идентификатора, однако надо уметь удалять дубликаты. Метод drop_duplicates() использован верно.\n",
    "    \n",
    "Вывод информации на печать лучше оформлять. Т.е. не выводить просто 71 и 0, а писать \"Число дубликатов до/после удаления\".\n",
    "\n",
    "</div>"
   ]
  },
  {
   "cell_type": "markdown",
   "metadata": {},
   "source": [
    "### Лемматизация"
   ]
  },
  {
   "cell_type": "code",
   "execution_count": 9,
   "metadata": {},
   "outputs": [
    {
     "name": "stdout",
     "output_type": "stream",
     "text": [
      "['покупка жилья' 'приобретение автомобиля' 'дополнительное образование'\n",
      " 'сыграть свадьбу' 'операции с жильем' 'образование'\n",
      " 'на проведение свадьбы' 'покупка жилья для семьи' 'покупка недвижимости'\n",
      " 'покупка коммерческой недвижимости' 'покупка жилой недвижимости'\n",
      " 'строительство собственной недвижимости' 'недвижимость'\n",
      " 'строительство недвижимости' 'на покупку подержанного автомобиля'\n",
      " 'на покупку своего автомобиля' 'операции с коммерческой недвижимостью'\n",
      " 'строительство жилой недвижимости' 'жилье'\n",
      " 'операции со своей недвижимостью' 'автомобили' 'заняться образованием'\n",
      " 'сделка с подержанным автомобилем' 'получение образования' 'автомобиль'\n",
      " 'свадьба' 'получение дополнительного образования' 'покупка своего жилья'\n",
      " 'операции с недвижимостью' 'получение высшего образования'\n",
      " 'свой автомобиль' 'сделка с автомобилем' 'профильное образование'\n",
      " 'высшее образование' 'покупка жилья для сдачи' 'на покупку автомобиля'\n",
      " 'ремонт жилью' 'заняться высшим образованием']\n"
     ]
    },
    {
     "data": {
      "text/html": [
       "<div>\n",
       "<style scoped>\n",
       "    .dataframe tbody tr th:only-of-type {\n",
       "        vertical-align: middle;\n",
       "    }\n",
       "\n",
       "    .dataframe tbody tr th {\n",
       "        vertical-align: top;\n",
       "    }\n",
       "\n",
       "    .dataframe thead th {\n",
       "        text-align: right;\n",
       "    }\n",
       "</style>\n",
       "<table border=\"1\" class=\"dataframe\">\n",
       "  <thead>\n",
       "    <tr style=\"text-align: right;\">\n",
       "      <th></th>\n",
       "      <th>children</th>\n",
       "      <th>days_employed</th>\n",
       "      <th>dob_years</th>\n",
       "      <th>education</th>\n",
       "      <th>education_id</th>\n",
       "      <th>family_status</th>\n",
       "      <th>family_status_id</th>\n",
       "      <th>gender</th>\n",
       "      <th>income_type</th>\n",
       "      <th>debt</th>\n",
       "      <th>total_income</th>\n",
       "      <th>purpose</th>\n",
       "      <th>kategoriya</th>\n",
       "    </tr>\n",
       "  </thead>\n",
       "  <tbody>\n",
       "    <tr>\n",
       "      <td>0</td>\n",
       "      <td>1</td>\n",
       "      <td>-8437</td>\n",
       "      <td>42</td>\n",
       "      <td>высшее</td>\n",
       "      <td>0</td>\n",
       "      <td>женат / замужем</td>\n",
       "      <td>0</td>\n",
       "      <td>f</td>\n",
       "      <td>сотрудник</td>\n",
       "      <td>0</td>\n",
       "      <td>253875</td>\n",
       "      <td>покупка жилья</td>\n",
       "      <td>недвижимость</td>\n",
       "    </tr>\n",
       "    <tr>\n",
       "      <td>1</td>\n",
       "      <td>1</td>\n",
       "      <td>-4024</td>\n",
       "      <td>36</td>\n",
       "      <td>среднее</td>\n",
       "      <td>1</td>\n",
       "      <td>женат / замужем</td>\n",
       "      <td>0</td>\n",
       "      <td>f</td>\n",
       "      <td>сотрудник</td>\n",
       "      <td>0</td>\n",
       "      <td>112080</td>\n",
       "      <td>приобретение автомобиля</td>\n",
       "      <td>автомобиль</td>\n",
       "    </tr>\n",
       "    <tr>\n",
       "      <td>2</td>\n",
       "      <td>0</td>\n",
       "      <td>-5623</td>\n",
       "      <td>33</td>\n",
       "      <td>среднее</td>\n",
       "      <td>1</td>\n",
       "      <td>женат / замужем</td>\n",
       "      <td>0</td>\n",
       "      <td>m</td>\n",
       "      <td>сотрудник</td>\n",
       "      <td>0</td>\n",
       "      <td>145885</td>\n",
       "      <td>покупка жилья</td>\n",
       "      <td>недвижимость</td>\n",
       "    </tr>\n",
       "    <tr>\n",
       "      <td>3</td>\n",
       "      <td>3</td>\n",
       "      <td>-4124</td>\n",
       "      <td>32</td>\n",
       "      <td>среднее</td>\n",
       "      <td>1</td>\n",
       "      <td>женат / замужем</td>\n",
       "      <td>0</td>\n",
       "      <td>m</td>\n",
       "      <td>сотрудник</td>\n",
       "      <td>0</td>\n",
       "      <td>267628</td>\n",
       "      <td>дополнительное образование</td>\n",
       "      <td>образование</td>\n",
       "    </tr>\n",
       "    <tr>\n",
       "      <td>4</td>\n",
       "      <td>0</td>\n",
       "      <td>340266</td>\n",
       "      <td>53</td>\n",
       "      <td>среднее</td>\n",
       "      <td>1</td>\n",
       "      <td>гражданский брак</td>\n",
       "      <td>1</td>\n",
       "      <td>f</td>\n",
       "      <td>пенсионер</td>\n",
       "      <td>0</td>\n",
       "      <td>158616</td>\n",
       "      <td>сыграть свадьбу</td>\n",
       "      <td>свадьба</td>\n",
       "    </tr>\n",
       "    <tr>\n",
       "      <td>5</td>\n",
       "      <td>0</td>\n",
       "      <td>-926</td>\n",
       "      <td>27</td>\n",
       "      <td>высшее</td>\n",
       "      <td>0</td>\n",
       "      <td>гражданский брак</td>\n",
       "      <td>1</td>\n",
       "      <td>m</td>\n",
       "      <td>компаньон</td>\n",
       "      <td>0</td>\n",
       "      <td>255763</td>\n",
       "      <td>покупка жилья</td>\n",
       "      <td>недвижимость</td>\n",
       "    </tr>\n",
       "    <tr>\n",
       "      <td>6</td>\n",
       "      <td>0</td>\n",
       "      <td>-2879</td>\n",
       "      <td>43</td>\n",
       "      <td>высшее</td>\n",
       "      <td>0</td>\n",
       "      <td>женат / замужем</td>\n",
       "      <td>0</td>\n",
       "      <td>f</td>\n",
       "      <td>компаньон</td>\n",
       "      <td>0</td>\n",
       "      <td>240525</td>\n",
       "      <td>операции с жильем</td>\n",
       "      <td>недвижимость</td>\n",
       "    </tr>\n",
       "    <tr>\n",
       "      <td>7</td>\n",
       "      <td>0</td>\n",
       "      <td>-152</td>\n",
       "      <td>50</td>\n",
       "      <td>среднее</td>\n",
       "      <td>1</td>\n",
       "      <td>женат / замужем</td>\n",
       "      <td>0</td>\n",
       "      <td>m</td>\n",
       "      <td>сотрудник</td>\n",
       "      <td>0</td>\n",
       "      <td>135823</td>\n",
       "      <td>образование</td>\n",
       "      <td>образование</td>\n",
       "    </tr>\n",
       "    <tr>\n",
       "      <td>8</td>\n",
       "      <td>2</td>\n",
       "      <td>-6929</td>\n",
       "      <td>35</td>\n",
       "      <td>высшее</td>\n",
       "      <td>0</td>\n",
       "      <td>гражданский брак</td>\n",
       "      <td>1</td>\n",
       "      <td>f</td>\n",
       "      <td>сотрудник</td>\n",
       "      <td>0</td>\n",
       "      <td>95856</td>\n",
       "      <td>на проведение свадьбы</td>\n",
       "      <td>свадьба</td>\n",
       "    </tr>\n",
       "    <tr>\n",
       "      <td>9</td>\n",
       "      <td>0</td>\n",
       "      <td>-2188</td>\n",
       "      <td>41</td>\n",
       "      <td>среднее</td>\n",
       "      <td>1</td>\n",
       "      <td>женат / замужем</td>\n",
       "      <td>0</td>\n",
       "      <td>m</td>\n",
       "      <td>сотрудник</td>\n",
       "      <td>0</td>\n",
       "      <td>144425</td>\n",
       "      <td>покупка жилья для семьи</td>\n",
       "      <td>недвижимость</td>\n",
       "    </tr>\n",
       "  </tbody>\n",
       "</table>\n",
       "</div>"
      ],
      "text/plain": [
       "   children  days_employed  dob_years education  education_id  \\\n",
       "0         1          -8437         42    высшее             0   \n",
       "1         1          -4024         36   среднее             1   \n",
       "2         0          -5623         33   среднее             1   \n",
       "3         3          -4124         32   среднее             1   \n",
       "4         0         340266         53   среднее             1   \n",
       "5         0           -926         27    высшее             0   \n",
       "6         0          -2879         43    высшее             0   \n",
       "7         0           -152         50   среднее             1   \n",
       "8         2          -6929         35    высшее             0   \n",
       "9         0          -2188         41   среднее             1   \n",
       "\n",
       "      family_status  family_status_id gender income_type  debt  total_income  \\\n",
       "0   женат / замужем                 0      f   сотрудник     0        253875   \n",
       "1   женат / замужем                 0      f   сотрудник     0        112080   \n",
       "2   женат / замужем                 0      m   сотрудник     0        145885   \n",
       "3   женат / замужем                 0      m   сотрудник     0        267628   \n",
       "4  гражданский брак                 1      f   пенсионер     0        158616   \n",
       "5  гражданский брак                 1      m   компаньон     0        255763   \n",
       "6   женат / замужем                 0      f   компаньон     0        240525   \n",
       "7   женат / замужем                 0      m   сотрудник     0        135823   \n",
       "8  гражданский брак                 1      f   сотрудник     0         95856   \n",
       "9   женат / замужем                 0      m   сотрудник     0        144425   \n",
       "\n",
       "                      purpose    kategoriya  \n",
       "0               покупка жилья  недвижимость  \n",
       "1     приобретение автомобиля    автомобиль  \n",
       "2               покупка жилья  недвижимость  \n",
       "3  дополнительное образование   образование  \n",
       "4             сыграть свадьбу       свадьба  \n",
       "5               покупка жилья  недвижимость  \n",
       "6           операции с жильем  недвижимость  \n",
       "7                 образование   образование  \n",
       "8       на проведение свадьбы       свадьба  \n",
       "9     покупка жилья для семьи  недвижимость  "
      ]
     },
     "metadata": {},
     "output_type": "display_data"
    }
   ],
   "source": [
    "m = Mystem() \n",
    "#Создаю список категорий причины для лематизации\n",
    "kategoriya = data_credit['purpose'].unique()\n",
    "print(kategoriya)\n",
    "\n",
    "def field_purpose(pur):\n",
    "    kat = m.lemmatize(pur)\n",
    "    if 'жилье' in kat:\n",
    "        return 'недвижимость'\n",
    "    if 'недвижимость' in kat:\n",
    "        return 'недвижимость'\n",
    "    if 'автомобиль' in kat:\n",
    "        return 'автомобиль'\n",
    "    if 'образование' in kat:\n",
    "        return 'образование'\n",
    "    if 'свадьба' in kat:\n",
    "        return 'свадьба'  \n",
    "    \n",
    "#Создаем столбец \"Категория кредита\" и записываем результат функции\n",
    "data_credit['kategoriya'] = data_credit['purpose'].apply(field_purpose)\n",
    "display(data_credit.head(10))"
   ]
  },
  {
   "cell_type": "markdown",
   "metadata": {},
   "source": [
    "<div class=\"alert alert-warning\">\n",
    "<h2> Комментарий ревьюера </h2>\n",
    "\n",
    "Таблицы на печать выводи с помощью метода display. print переводит данные в строку, а нам этого не надо. \n",
    "\n",
    "</div>"
   ]
  },
  {
   "cell_type": "markdown",
   "metadata": {},
   "source": [
    "### Вывод"
   ]
  },
  {
   "cell_type": "markdown",
   "metadata": {},
   "source": [
    "В поле \"purpose\" нету единного формата отображения причины, для быстрого анализа повода взятия кредита необходимо произвести  лемматизацию. Для лемматизации было использована библиотека Mystem с функцией pymystem3. \n",
    "\n",
    "Перед тем как провести лемму, в отдельную Series-таблицу Kategoriya с помощью выполения метода unique() я записала список цели получения кредита  из столбца \"purpose\"  из таблицы data_credit. \n",
    "\n",
    "После вывода на экран таблицы Kategoriya, я провела ручной анализ и выделила основные часто встречающиеся слова существительного части речи, необходимые для составления лемма. \n",
    "Это:\n",
    "- \"недвижимость\", \n",
    "- \"жилье\", \n",
    "- \"автомобиль\", \n",
    "- \"образование\", \n",
    "- \"свадьба\"\n",
    "\n",
    "Далее создаю функцию для проверки слов в сведённых к лемме.  Создаем дополнительный столбец \"kategoriya\" где записываются результаты проверок.\n"
   ]
  },
  {
   "cell_type": "markdown",
   "metadata": {},
   "source": [
    "<div class=\"alert alert-warning\">\n",
    "<h2> Комментарий ревьюера </h2>\n",
    "\n",
    "Круто, ты сделала самую сложную часть проекта. Использовала нужные методы, и даже провела группировку с помощью собственной функции. Только выбор лемм стоит объяснить подробнее.\n",
    "\n",
    "</div>"
   ]
  },
  {
   "cell_type": "markdown",
   "metadata": {},
   "source": [
    "<div class=\"alert alert-success\">\n",
    "<h2> Комментарий ревьюера 2</h2>\n",
    "\n",
    "Да, вывод уни кальных целей вполне достаточен для выбора главных целей кредитов. \n",
    "\n",
    "</div>"
   ]
  },
  {
   "cell_type": "markdown",
   "metadata": {},
   "source": [
    "### Категоризация данных"
   ]
  },
  {
   "cell_type": "code",
   "execution_count": 10,
   "metadata": {},
   "outputs": [
    {
     "name": "stdout",
     "output_type": "stream",
     "text": [
      "Словарь \"Уровень образования клиента\"\n",
      "Counter({'среднее': 15172, 'высшее': 5250, 'неоконченное высшее': 744, 'начальное': 282, 'ученая степень': 6})\n"
     ]
    }
   ],
   "source": [
    "# выведем типы education и их кол-во из таблицы, запишем в словарь\n",
    "education = collections.Counter()\n",
    "education_list = data_credit['education']\n",
    "for i in education_list:\n",
    "    education[i] += 1\n",
    "print('Словарь \"Уровень образования клиента\"')   \n",
    "print(education)\n"
   ]
  },
  {
   "cell_type": "code",
   "execution_count": 11,
   "metadata": {},
   "outputs": [
    {
     "name": "stdout",
     "output_type": "stream",
     "text": [
      "Словарь \"Семейное положение\"\n",
      "Counter({'женат / замужем': 12339, 'гражданский брак': 4151, 'не женат / не замужем': 2810, 'в разводе': 1195, 'вдовец / вдова': 959})\n"
     ]
    }
   ],
   "source": [
    "# выведем типы family_status и их кол-во из таблицы, запишем в словарь\n",
    "family_status = collections.Counter()\n",
    "family_status_list = data_credit['family_status']\n",
    "for i in family_status_list:\n",
    "    family_status[i] += 1\n",
    "print('Словарь \"Семейное положение\"')      \n",
    "print(family_status)"
   ]
  },
  {
   "cell_type": "code",
   "execution_count": 12,
   "metadata": {},
   "outputs": [
    {
     "name": "stdout",
     "output_type": "stream",
     "text": [
      "Словарь \"Тип занятости\"\n",
      "Counter({'сотрудник': 11084, 'компаньон': 5078, 'пенсионер': 3829, 'госслужащий': 1457, 'безработный': 2, 'предприниматель': 2, 'студент': 1, 'в декрете': 1})\n"
     ]
    }
   ],
   "source": [
    "# выведем типы income_type и их кол-во из таблицы, запишем в словарь\n",
    "income_type = collections.Counter()\n",
    "income_type_list = data_credit['income_type']\n",
    "for i in income_type_list:\n",
    "    income_type[i] += 1\n",
    "print('Словарь \"Тип занятости\"')     \n",
    "print(income_type)"
   ]
  },
  {
   "cell_type": "markdown",
   "metadata": {},
   "source": [
    "### Вывод"
   ]
  },
  {
   "cell_type": "markdown",
   "metadata": {},
   "source": [
    "Библиотека collections предназначена для удобного и быстрого подсчета количества появлений неизменяемых элементов в таблице. Результат посчета выводится словарем.\n",
    "\n",
    "Я записала в словари по трём столбцам:\n",
    "- education\n",
    "- family_status\n",
    "- income_type"
   ]
  },
  {
   "cell_type": "markdown",
   "metadata": {},
   "source": [
    "<div class=\"alert alert-danger\">\n",
    "<h2> Комментарий ревьюера </h2>\n",
    "\n",
    "В данных есть словари. Попробуй их обнаружить и выделить. Это довольно распространенный способ хранения информации. Мне важно понять, что он тобой освоен. Заметь, что в основной таблице мы имеем по 2 параметра с образованием и семейным статусом. Именно по ним и стоит выделить словари. \n",
    "\n",
    "</div>"
   ]
  },
  {
   "cell_type": "markdown",
   "metadata": {},
   "source": [
    "<div class=\"alert alert-success\">\n",
    "<h2> Комментарий ревьюера 2</h2>\n",
    "\n",
    "Словари имелись в виду несколько иные, а именно family_status_id:family_status. Так мы сможем убрать лишние текстовые параметры из основной таблицы, что увеличит эффективность работы с данными. Однако важно, что ты освоила данный способ хранения информации и умеешь его использовать. \n",
    "\n",
    "</div>"
   ]
  },
  {
   "cell_type": "markdown",
   "metadata": {},
   "source": [
    "### Шаг 3. Ответьте на вопросы"
   ]
  },
  {
   "cell_type": "markdown",
   "metadata": {},
   "source": [
    "- Есть ли зависимость между наличием детей и возвратом кредита в срок?"
   ]
  },
  {
   "cell_type": "code",
   "execution_count": 13,
   "metadata": {},
   "outputs": [
    {
     "name": "stdout",
     "output_type": "stream",
     "text": [
      "debt              0         1\n",
      "children                     \n",
      "-1         0.214412  0.004661\n",
      " 0        60.725273  4.954787\n",
      " 1        20.341195  2.069544\n",
      " 2         8.660390  0.904260\n",
      " 3         1.412324  0.125851\n",
      " 4         0.172462  0.018645\n",
      " 5         0.041950       NaN\n",
      " 20        0.316957  0.037289\n"
     ]
    }
   ],
   "source": [
    "#вывод группы по кол-ву детей у кредитора и подсчет долей по признаку debt\n",
    "print(data_credit.pivot_table(index='children', columns='debt', values='purpose', aggfunc='count')*100/data_credit['children'].count())"
   ]
  },
  {
   "cell_type": "markdown",
   "metadata": {},
   "source": [
    "### Вывод"
   ]
  },
  {
   "cell_type": "markdown",
   "metadata": {},
   "source": [
    "Проверка показала наличие ошибочных и пропущенных данных в столбце \"children\". \n",
    "Проведу замену -1 на 1, 20 на 2, NaN на 0"
   ]
  },
  {
   "cell_type": "code",
   "execution_count": 14,
   "metadata": {},
   "outputs": [],
   "source": [
    "#замена ошибочных значений -1 и 20\n",
    "data_credit['children'] = data_credit['children'].replace(-1, 1)\n",
    "data_credit['children'] = data_credit['children'].replace(20, 2)\n",
    "#замена пропущенных значений NaN\n",
    "data_credit['children'] = data_credit['children'].fillna(0)  "
   ]
  },
  {
   "cell_type": "code",
   "execution_count": 15,
   "metadata": {},
   "outputs": [
    {
     "name": "stdout",
     "output_type": "stream",
     "text": [
      "debt            0       1\n",
      "children                 \n",
      "0         13028.0  1063.0\n",
      "1          4410.0   445.0\n",
      "2          1926.0   202.0\n",
      "3           303.0    27.0\n",
      "4            37.0     4.0\n",
      "5             9.0     NaN\n",
      "Не имеют задолженность по возврату кредитов (в долях)\n",
      "children\n",
      "0    0.924562\n",
      "1    0.908342\n",
      "2    0.905075\n",
      "3    0.918182\n",
      "4    0.902439\n",
      "5         NaN\n",
      "dtype: float64\n",
      "\n",
      "Имеют задолженность по возврату кредитов (в долях)\n",
      "children\n",
      "0    0.075438\n",
      "1    0.091658\n",
      "2    0.094925\n",
      "3    0.081818\n",
      "4    0.097561\n",
      "5         NaN\n",
      "dtype: float64\n"
     ]
    }
   ],
   "source": [
    "group = data_credit.pivot_table(index='children', columns='debt', values='purpose', aggfunc='count')\n",
    "print(group)\n",
    "\n",
    "# вычисляем долю зависимости наличие детей на возврат кредита в срок\n",
    "print('Не имеют задолженность по возврату кредитов (в долях)')\n",
    "print(group[0]/(group[1]+group[0]))\n",
    "print('')\n",
    "print('Имеют задолженность по возврату кредитов (в долях)')\n",
    "print(group[1]/(group[1]+group[0]))\n"
   ]
  },
  {
   "cell_type": "markdown",
   "metadata": {},
   "source": [
    "<div class=\"alert alert-danger\">\n",
    "<h2> Комментарий ревьюера 2</h2>\n",
    "\n",
    "Категоризовать данные по числу детей необязательно. Разбиение есть уже в исходных данных. Все-таки разница в возврате кредита у семей с одним ребенком или тремя детьми будет. Так ты только уменьшаешь объем имеющейся информации. \n",
    "\n",
    "</div>"
   ]
  },
  {
   "cell_type": "markdown",
   "metadata": {},
   "source": [
    "<div class=\"alert alert-success\">\n",
    "<h2> Комментарий ревьюера 3</h2>\n",
    "\n",
    "Значения в -1 и 20 детей стоит обработать отдельно. Данные показатели выглядят малореальными. По поводу таблиц смотри комментарий ниже. \n",
    "\n",
    "</div>"
   ]
  },
  {
   "cell_type": "markdown",
   "metadata": {},
   "source": [
    "<div class=\"alert alert-danger\">\n",
    "<h2> Комментарий на комментарий ревьюера 2</h2>\n",
    "\n",
    "я уже незнаю что от меня требуется. кажется это последняя идея которая ко мне пришла.\n",
    "\n",
    "</div>"
   ]
  },
  {
   "cell_type": "markdown",
   "metadata": {},
   "source": [
    "### Вывод"
   ]
  },
  {
   "cell_type": "markdown",
   "metadata": {},
   "source": [
    "Для того чтобы ответить на вопрос: Есть ли зависимость между наличием детей и возвратом кредита в срок?\n",
    "Я разделила кредиторов на группы по кол-ву детей с отметкой по столбцу debt и разделила на кол-во кредитовов всего в группе.\n",
    "## замену пропущенных значение NaN на 0 не сработало. где я не правильно сделала?\n",
    "\n",
    "Результат показал наличие четверых детей (доля группы равна 0.097561) больше влияет на оплату кредита в срок, чем меньше детей тем легче возращать долги."
   ]
  },
  {
   "cell_type": "markdown",
   "metadata": {},
   "source": [
    "<div class=\"alert alert-success\">\n",
    "<h2> Комментарий ревьюера 4</h2>\n",
    "\n",
    "Молодец, теперь ты рассчитываешь правильные доли. Смотри, это пропуски в сводной таблице, а не в исходной data_credit. Клиентов с долгом и с 5 детьми просто нет в данных, поэтому там и образуется пропуск. \n",
    "\n",
    "</div>"
   ]
  },
  {
   "cell_type": "markdown",
   "metadata": {},
   "source": [
    "<div class=\"alert alert-danger\">\n",
    "<h2> Комментарий ревьюера </h2>\n",
    "\n",
    "Смотри, ты судишь по абсолютным значениям. Что это значит? Там, где больше людей имеют долг, те группы и опаснее для банка. Однако может быть так, что число должников в определенной группе 1000, а кредит брали 100000. Тогда процент должников в группе будет 1%. А в другой группе должников может быть 500, но кредит брали 1000 человек. Доля должников - 50%. Как думаешь, что невыгоднее для банка? Судить по абсолютным значениям мы не можем. Надо найти долю должников в каждой из групп, потом уже сравнить полученны результаты и сделать вывод о том, какая группа хуже всего возвращает кредит. \n",
    "\n",
    "</div>"
   ]
  },
  {
   "cell_type": "markdown",
   "metadata": {},
   "source": [
    "- Есть ли зависимость между семейным положением и возвратом кредита в срок?"
   ]
  },
  {
   "cell_type": "code",
   "execution_count": 16,
   "metadata": {},
   "outputs": [
    {
     "name": "stdout",
     "output_type": "stream",
     "text": [
      "family_status          debt\n",
      "в разводе              0        1110\n",
      "                       1          85\n",
      "вдовец / вдова         0         896\n",
      "                       1          63\n",
      "гражданский брак       0        3763\n",
      "                       1         388\n",
      "женат / замужем        0       11408\n",
      "                       1         931\n",
      "не женат / не замужем  0        2536\n",
      "                       1         274\n",
      "Name: debt, dtype: int64\n"
     ]
    }
   ],
   "source": [
    "# Группировка столбцов 'family_status' и 'debt', количественный посчет \n",
    "print(data_credit.groupby(['family_status', 'debt'])['debt'].count())\n"
   ]
  },
  {
   "cell_type": "markdown",
   "metadata": {},
   "source": [
    "### Вывод"
   ]
  },
  {
   "cell_type": "markdown",
   "metadata": {},
   "source": [
    "Для того чтобы ответить на вопрос: Есть ли зависимость между семейным положением и возвратом кредита в срок?\n",
    "Я провела группировку столбцов 'family_status' и 'debt' и вывела количественный посчет\n",
    "\n",
    "Наибольший результат показал, что зависимость между женат / замужем и возвратом кредита в срок есть."
   ]
  },
  {
   "cell_type": "markdown",
   "metadata": {},
   "source": [
    "<div class=\"alert alert-danger\">\n",
    "<h2> Комментарий ревьюера </h2>\n",
    "\n",
    "Так не пойдет. Не стоит рассчитывать показатели руками. Групп может быть и 100, так уже не рассчитать. Используй методы группировки groupby или pivot_table. \n",
    "\n",
    "</div>"
   ]
  },
  {
   "cell_type": "markdown",
   "metadata": {},
   "source": [
    "- Есть ли зависимость между уровнем дохода и возвратом кредита в срок?"
   ]
  },
  {
   "cell_type": "code",
   "execution_count": 17,
   "metadata": {},
   "outputs": [
    {
     "name": "stdout",
     "output_type": "stream",
     "text": [
      "(214618.2, 2265604.0]    4291\n",
      "(161335.0, 214618.2]     4291\n",
      "(98537.6, 132134.4]      4291\n",
      "(20666.999, 98537.6]     4291\n",
      "(132134.4, 161335.0]     4290\n",
      "Name: qcut_total_income, dtype: int64\n",
      "qcut_total_income      debt\n",
      "(20666.999, 98537.6]   0       3947\n",
      "                       1        344\n",
      "(98537.6, 132134.4]    0       3930\n",
      "                       1        361\n",
      "(132134.4, 161335.0]   0       3915\n",
      "                       1        375\n",
      "(161335.0, 214618.2]   0       3930\n",
      "                       1        361\n",
      "(214618.2, 2265604.0]  0       3991\n",
      "                       1        300\n",
      "Name: debt, dtype: int64\n"
     ]
    }
   ],
   "source": [
    "#составляет квантилии данных по ежемесячным доходам\n",
    "data_credit['qcut_total_income'] = pd.qcut(data_credit['total_income'],5)\n",
    "# смотрим кол-во людей в каждой группе\n",
    "a= data_credit['qcut_total_income'].value_counts()\n",
    "print(a)\n",
    "# смотрим кол-во по квантилиям с условием имел ли задолженность по возврату кредитов\n",
    "print(data_credit.groupby(['qcut_total_income', 'debt'])['debt'].count())"
   ]
  },
  {
   "cell_type": "markdown",
   "metadata": {},
   "source": [
    "<div class=\"alert alert-success\">\n",
    "<h2> Комментарий ревьюера 2</h2>\n",
    "\n",
    "Здорово, что ты освоила метод qcut. Так выделяемые группы получаются равного размера, и мы можем по ним построить выводы. \n",
    "\n",
    "</div>"
   ]
  },
  {
   "cell_type": "markdown",
   "metadata": {},
   "source": [
    "### Вывод"
   ]
  },
  {
   "cell_type": "markdown",
   "metadata": {},
   "source": [
    "Для того чтобы ответить на вопрос: Есть ли зависимость между семейным положением и возвратом кредита в срок?\n",
    "\n",
    "Я составила квантилии данных по ежемесячным доходам с помощью метода qcut(), даннные диапозона записала в новый столбец \"qcut_total_income\". \n",
    "\n",
    "Далее убелились что в каждой группе одинаковое кол-во людей (записей). Группировкой по новому столбцу \"qcut_total_income\" и отметкой в столбце \"debt\" получили количественный состав данных.\n",
    "\n",
    "Т.к в самом маленьком диапозоне (20666.999, 98537.6] с отметкой имеет задолженность равна не самому минимальному кол-ву, то могу сказать что зависимости между уровнем дохода и возвратам кредита в срок нету."
   ]
  },
  {
   "cell_type": "markdown",
   "metadata": {},
   "source": [
    "<div class=\"alert alert-danger\">\n",
    "<h2> Комментарий ревьюера </h2>\n",
    "\n",
    "Исходя из чего выбран именно такой способ категоризации столбца с доходами? 2 группы - слишком мало для построения по ним надежных выводов. Лучше использовать разбиение по квантилям данных (метод qcut). Тогда группы получатся одинакового размера. Или же можно узнать в интернете процентный состав общества по доходам и затем уже категоризовать столбец с доходами по найденному соотношению с помощью персентилей. \n",
    "\n",
    "</div>"
   ]
  },
  {
   "cell_type": "markdown",
   "metadata": {},
   "source": [
    "- Как разные цели кредита влияют на его возврат в срок?"
   ]
  },
  {
   "cell_type": "code",
   "execution_count": 18,
   "metadata": {},
   "outputs": [
    {
     "name": "stdout",
     "output_type": "stream",
     "text": [
      "debt              0    1\n",
      "kategoriya              \n",
      "автомобиль     3903  403\n",
      "недвижимость  10029  782\n",
      "образование    3643  370\n",
      "свадьба        2138  186\n",
      "Не имеют задолженность по возврату кредитов\n",
      "kategoriya\n",
      "автомобиль      0.906410\n",
      "недвижимость    0.927666\n",
      "образование     0.907800\n",
      "свадьба         0.919966\n",
      "dtype: float64\n",
      "\n",
      "Имеют задолженность по возврату кредитов\n",
      "kategoriya\n",
      "автомобиль      0.093590\n",
      "недвижимость    0.072334\n",
      "образование     0.092200\n",
      "свадьба         0.080034\n",
      "dtype: float64\n"
     ]
    }
   ],
   "source": [
    "kat=data_credit.pivot_table(index=['kategoriya'], columns='debt', values='purpose', aggfunc='count')\n",
    "print(kat)\n",
    "print('Не имеют задолженность по возврату кредитов')\n",
    "print(kat[0]/(kat[1]+kat[0]))\n",
    "\n",
    "print('')\n",
    "print('Имеют задолженность по возврату кредитов')\n",
    "print(kat[1]/(kat[1]+kat[0]))"
   ]
  },
  {
   "cell_type": "markdown",
   "metadata": {},
   "source": [
    "<div class=\"alert alert-danger\">\n",
    "<h2> Комментарий ревьюера </h2>\n",
    "\n",
    "На данном шаге рекомендуется использовать метод сводных таблиц (pivot_table()). Он является аналогом метода groupby(). Изучи метод сводных таблиц и примени его хотя бы в одном пункте анализа.\n",
    "\n",
    "</div>"
   ]
  },
  {
   "cell_type": "markdown",
   "metadata": {},
   "source": [
    "### Вывод"
   ]
  },
  {
   "cell_type": "markdown",
   "metadata": {},
   "source": [
    "Для того чтобы ответить на вопрос: Как разные цели кредита влияют на его возврат в срок?\n",
    "Я создала сводную таблицу методом pivot_table(), после чего наглядно видно кол-во целей кредита и погашен/не погашен в срок. Для расчета доли по категриям я взяла показатель категории разделила на сумму значений 0 и 1.\n",
    "\n",
    "Наибольший результат показал, что цель кредита \"автомобиль\" больше всего влияет на возврат кредита в срок, доля составляет более 0.093590.\n"
   ]
  },
  {
   "cell_type": "markdown",
   "metadata": {},
   "source": [
    "<div class=\"alert alert-danger\">\n",
    "<h2> Комментарий ревьюера 2</h2>\n",
    "\n",
    "По каждому пункту анализа важно делать выводы не по абсолютным показателям, а по долям должников. По полученным сводным таблицам найди доли должников в группах. Выводы делай именно по долям должников. Сравнивать стоит именно доли. \n",
    "\n",
    "</div>"
   ]
  },
  {
   "cell_type": "markdown",
   "metadata": {},
   "source": [
    "<div class=\"alert alert-danger\">\n",
    "<h2> Комментарий ревьюера 3</h2>\n",
    "\n",
    "Ты находишь долю должников и долю недолжников относительно общего числа клиентов в данных. Эти показатели нормированные, но выводы ты все равно делаешь по числу должников. В категории недвижимость больше всего должников по твоей таблице, однако это не так. В данной категории будет маименьшая доля должников. Давай теперь уточню то, как ее рассчитывать. Смотри, таблица (модернизация того, что у тебя выше) - `data_credit.pivot_table(index=['kategoriya'], columns='debt', values='purpose', aggfunc='count')` дает нам число клиентов по категориям и дает показатели по числу должников и недолжников в них. Для того чтобы найти доли должников в группах нам надо поделить их число на общее число клиентов (должники + недолжники). Для этого нам надо взять столбец 0 и поделить его на сумму столбцов 0 и 1. Затем уже мы можем сделать выводы по полученным долям. Это и будут искомые доли по числу должников в группах.\n",
    "\n",
    "</div>"
   ]
  },
  {
   "cell_type": "markdown",
   "metadata": {},
   "source": [
    "<div class=\"alert alert-success\">\n",
    "<h2> Комментарий ревьюера 4</h2>\n",
    "\n",
    "Доли рассчитаны правильно. Здорово, что ты разобралась. Только по анализу влияния семейного статуса на возврат кредита также стоило рассчитать доли должников. \n",
    "\n",
    "</div>"
   ]
  },
  {
   "cell_type": "markdown",
   "metadata": {},
   "source": [
    "### Шаг 4. Общий вывод"
   ]
  },
  {
   "cell_type": "markdown",
   "metadata": {},
   "source": [
    "Полученный от заказчика файл сотсоит из:\n",
    "- 12 столбцов \n",
    "- 21 525 записей с данными.\n",
    "\n",
    "В ручном просмотре файла было замечано:\n",
    "- Пропущенные данные. Файл по этой проблеме прошел обработку\n",
    "- Отрицательные данные. Но они не влияли на то, чтобы ответить на главные вопросы заказчика. Поэтому обработку мною проведена не была\n",
    "- Замена тип данных. float на integer\n",
    "- Удаление дубликатов. \n",
    "- Лемматизация категорий причины взятия кредита. ДОбавили дополнительный столбце с категорией кредита.\n",
    "- Категоризация данных. Составление словарей и подсчет кол-ва ключей в таблице\n",
    "\n",
    "\n",
    "Итоговой работой над файлом было то, чтобы ответить на важные вопросы:\n",
    "\n",
    "1. Есть ли зависимость между наличием детей и возвратом кредита в срок?\n",
    "\n",
    "Для того чтобы ответить на вопрос я разделила кредиторов на группы по кол-ву детей с отметкой по столбцу debt и разделила на кол-во кредитовов всего в группе.\n",
    "\n",
    "Результат показал наличие четверых детей (доля группы равна 0.097561) больше влияет на оплату кредита в срок, чем меньше детей тем легче возращать долги. \n",
    "\n",
    "\n",
    "Статистика результата:\n",
    "\n",
    "- Не имеют задолженность по возврату кредитов (в долях)\n",
    "\n",
    "Кол-во детей/ доля показателя\n",
    "- 0    0.924562\n",
    "- 1    0.908342\n",
    "- 2    0.905075\n",
    "- 3    0.918182\n",
    "- 4    0.902439\n",
    "- 5        1\n",
    "\n",
    "\n",
    "- Имеют задолженность по возврату кредитов (в долях)\n",
    "\n",
    "Кол-во детей/ доля показателя\n",
    "- 0    0.075438\n",
    "- 1    0.091658\n",
    "- 2    0.094925\n",
    "- 3    0.081818\n",
    "- 4    0.097561\n",
    "- 5         0\n",
    "\n",
    "Вывод наличие детей на возврат кредит в срок не значителен.\n",
    "\n",
    "\n",
    "2. Есть ли зависимость между семейным положением и возвратом кредита в срок?\n",
    "\n",
    "Провела группировку категории семейного положения и количественный подсчет по признаку \"Имеет ли задолжность по возрату кредита\".\n",
    "\n",
    "Результат проверки показал, что:\n",
    "- в разводе, не имеет задолжности по кредиту кол-во кредитов составляет 1110\n",
    "- в разводе, имеет задолжности по кредиту кол-во кредитов составляет 85\n",
    "- вдовец / вдова, не имеет задолжности по кредиту кол-во кредитов составляет 896\n",
    "- вдовец / вдова, имеет задолжности по кредиту кол-во кредитов составляет 63\n",
    "- гражданский брак, не имеет задолжности по кредиту кол-во кредитов составляет 3763\n",
    "- гражданский брак, имеет задолжности по кредиту кол-во кредитов составляет 388\n",
    "- женат / замужем, не имеет задолжности по кредиту кол-во кредитов составляет 11408\n",
    "- женат / замужем имеет задолжности по кредиту кол-во кредитов составляет 931\n",
    "- не женат / не замужем, не имеет задолжности по кредиту кол-во кредитов составляет 2536\n",
    "- не женат / не замужем, имеет задолжности по кредиту кол-во кредитов составляет 274\n",
    "\n",
    "Нас интересуют данные, которые находятся с отметкой \"имеет ли задолжность по возрату кредита\".  Большее кол-во покозало при семейном положении \"женат / замужем \" - 931\n",
    "\n",
    "\n",
    "3. Есть ли зависимость между уровнем дохода и возвратом кредита в срок?\n",
    "\n",
    "Я составила квантилии данных по ежемесячным доходам, даннные диапозона записала в новый столбец \"qcut_total_income\". Получилось 5 групп входящие в диапозон с доходами. Группировкой по новому столбцу \"qcut_total_income\" и отметкой в столбце \"debt\" получили количественный состав данных.\n",
    "\n",
    "Минимальный диапозон с доходами (20666.999, 98537.6] и с отметкой имеет задолжность по возврату кредита (1) составляет 344 записей.\n",
    "\n",
    "Когда как диапозон с доходами (132134.4, 161335.0]  и с отметкой имеет задолжность по возврату кредита (1) составляет 375 записей.\n",
    "\n",
    "Поэтому, можно судить что наименьший уровень дохода не влияет на возврат кредита в срок.\n",
    "\n",
    "\n",
    "4. Как разные цели кредита влияют на его возврат в срок?\n",
    "\n",
    "Составила сводную таблицу по столбцу \"Категория кредита\" и по признаку \"Имеет ли задолжность по возрату кредита\".\n",
    "\n",
    "Для расчета доли по категориям я взяла показатель категории разделила на сумму значений 0 и 1.\n",
    "\n",
    "Наибольший результат показал, что цель кредита \"автомобиль\" больше всего влияет на возврат кредита в срок, доля составляет более 0.093590.\n",
    "\n",
    "Результат проверки показал, следующее:\n",
    "\n",
    "kategoriya/ не имеет задолжность:                      \n",
    "                  \n",
    "- автомобиль   0.906410\n",
    "- недвижимость  0.927666\n",
    "- образование   0.907800\n",
    "- свадьба       0.919966 \n",
    " \n",
    "\n",
    " kategoriya/ имеет задолжность:                      \n",
    "                  \n",
    "- автомобиль    0.093590\n",
    "- недвижимость  0.072334\n",
    "- образование   0.092200\n",
    "- свадьба       0.080034\n",
    "\n",
    "Вывод: Автомобиль имеет больший покатель- 0.093590 в задолжности по оплате кредита.\n",
    "\n",
    "Итак, мы в итоге получается:\n",
    "1. Наибольший результат показал, что зависимость между детьми и возвратом кредита в срок есть.\n",
    "2. Наибольший результат показал, что зависимость между женат / замужем и возвратом кредита в срок есть.\n",
    "3. Наименьший размер ежемесячного дохода не влияет на возврат кредита в срок.\n",
    "4. Наибольший результат показал, что цель кредита \"автомобиль\" влияет на возврат кредита в срок есть.\n",
    "\n"
   ]
  },
  {
   "cell_type": "markdown",
   "metadata": {},
   "source": [
    "<div class=\"alert alert-danger\">\n",
    "<h2> Комментарий ревьюера </h2>\n",
    "\n",
    "Финальный вывод и есть главный результат твоей работы. Стоит писать его подробно по результатам проведенной работы. В нем можно приводить полученные в ходе работы значения. Также можно расписать все, что было сделано в работе.\n",
    "\n",
    "</div>"
   ]
  },
  {
   "cell_type": "markdown",
   "metadata": {},
   "source": [
    "<div class=\"alert alert-success\">\n",
    "<h2> Комментарий ревьюера 2</h2>\n",
    "\n",
    "Выводы описаны грамотно. Приведены ответы на главные вопросы проекта. В выводах можно приводить полученные ранее значения, правильно. Здорово, что по каждому пункту работы приведен вывод.     \n",
    "\n",
    "</div>"
   ]
  },
  {
   "cell_type": "markdown",
   "metadata": {},
   "source": [
    "<div class=\"alert alert-warning\">\n",
    "<h2> Комментарий ревьюера </h2>\n",
    "\n",
    "- В начале работы следует описывать данные, с которыми работаешь;\n",
    "- Попробуй улучшить обработку пропусков;\n",
    "- Категоризацию по доходу стоит делать иначе. Смотри данный пункт подробнее;\n",
    "- Выдели словари в данных;\n",
    "- Используй методы группировки при подсчетах и ответах на поставленные в задании вопросы (как минимум в одном пункте примени метод сводных таблиц);\n",
    "- Финальный вывод стоит писать подробно.\n",
    "\n",
    "Ты проделала большую работу, молодец! Исправь отмеченные выше помарки. Также есть и желтые комментарии. Думаю, исправить их тебе не составит труда. Жду твою работу :)\n",
    "\n",
    "</div>"
   ]
  },
  {
   "cell_type": "markdown",
   "metadata": {},
   "source": [
    "<div class=\"alert alert-success\">\n",
    "<h2> Комментарий ревьюера 2</h2>\n",
    "\n",
    "Ты очень здорово поработала, молодец. Осталось лишь исправить последний пункт при ответе на поставленные в задании вопросы. Как сделаешь это, присылай проект снова :) \n",
    "\n",
    "</div>"
   ]
  },
  {
   "cell_type": "markdown",
   "metadata": {},
   "source": [
    "<div class=\"alert alert-success\">\n",
    "<h2> Комментарий ревьюера 3</h2>\n",
    "\n",
    "Я верю в то, что ты справишься с расчетами. Остался буквально последний шаг. Рассчитай нужные доли, исправь выводы там, где это необходимо и присылай проект. Буду ждать :)\n",
    "\n",
    "</div>"
   ]
  },
  {
   "cell_type": "markdown",
   "metadata": {},
   "source": [
    "<div class=\"alert alert-success\">\n",
    "<h2> Комментарий ревьюера 4</h2>\n",
    "\n",
    "Помарки исправлены, и теперь работа выполнена хорошо. Я рад, что ты справилась с задачей. Ты проделала большую работу! Успехов в дальнейших проектах :)\n",
    "\n",
    "</div>\n",
    "   "
   ]
  },
  {
   "cell_type": "markdown",
   "metadata": {},
   "source": [
    "### Чек-лист готовности проекта\n",
    "\n",
    "Поставьте 'x' в выполненных пунктах. Далее нажмите Shift+Enter."
   ]
  },
  {
   "cell_type": "markdown",
   "metadata": {},
   "source": [
    "- [x]  открыт файл;\n",
    "- [x]  файл изучен;\n",
    "- [x]  определены пропущенные значения;\n",
    "- [x]  заполнены пропущенные значения;\n",
    "- [x]  есть пояснение, какие пропущенные значения обнаружены;\n",
    "- [x]  описаны возможные причины появления пропусков в данных;\n",
    "- [x]  объяснено, по какому принципу заполнены пропуски;\n",
    "- [x]  заменен вещественный тип данных на целочисленный;\n",
    "- [x]  есть пояснение, какой метод используется для изменения типа данных и почему;\n",
    "- [x]  удалены дубликаты;\n",
    "- [x]  есть пояснение, какой метод используется для поиска и удаления дубликатов;\n",
    "- [x]  описаны возможные причины появления дубликатов в данных;\n",
    "- [x]  выделены леммы в значениях столбца с целями получения кредита;\n",
    "- [x]  описан процесс лемматизации;\n",
    "- [x]  данные категоризированы;\n",
    "- [x]  есть объяснение принципа категоризации данных;\n",
    "- [x]  есть ответ на вопрос: \"Есть ли зависимость между наличием детей и возвратом кредита в срок?\";\n",
    "- [x]  есть ответ на вопрос: \"Есть ли зависимость между семейным положением и возвратом кредита в срок?\";\n",
    "- [x]  есть ответ на вопрос: \"Есть ли зависимость между уровнем дохода и возвратом кредита в срок?\";\n",
    "- [x]  есть ответ на вопрос: \"Как разные цели кредита влияют на его возврат в срок?\";\n",
    "- [x]  в каждом этапе есть выводы;\n",
    "- [x]  есть общий вывод."
   ]
  },
  {
   "cell_type": "code",
   "execution_count": 19,
   "metadata": {},
   "outputs": [
    {
     "name": "stdout",
     "output_type": "stream",
     "text": [
      "Проектная часть выполнена. С новым годом!\n"
     ]
    }
   ],
   "source": [
    "print('Проектная часть выполнена. С новым годом!')"
   ]
  },
  {
   "cell_type": "markdown",
   "metadata": {},
   "source": [
    "<div class=\"alert alert-success\">\n",
    "<h2> Комментарий ревьюера </h2>\n",
    "\n",
    "Тебя также с наступающим новым годом! Успехов во всех начинаниях.\n",
    "\n",
    "</div>"
   ]
  }
 ],
 "metadata": {
  "kernelspec": {
   "display_name": "Python 3",
   "language": "python",
   "name": "python3"
  },
  "language_info": {
   "codemirror_mode": {
    "name": "ipython",
    "version": 3
   },
   "file_extension": ".py",
   "mimetype": "text/x-python",
   "name": "python",
   "nbconvert_exporter": "python",
   "pygments_lexer": "ipython3",
   "version": "3.7.8"
  },
  "toc": {
   "base_numbering": 1,
   "nav_menu": {},
   "number_sections": true,
   "sideBar": true,
   "skip_h1_title": false,
   "title_cell": "Table of Contents",
   "title_sidebar": "Contents",
   "toc_cell": false,
   "toc_position": {},
   "toc_section_display": true,
   "toc_window_display": false
  }
 },
 "nbformat": 4,
 "nbformat_minor": 2
}
